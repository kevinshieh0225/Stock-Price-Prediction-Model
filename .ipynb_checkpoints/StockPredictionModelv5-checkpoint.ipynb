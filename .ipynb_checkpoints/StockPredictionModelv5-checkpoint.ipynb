{
 "cells": [
  {
   "cell_type": "markdown",
   "metadata": {},
   "source": [
    "# 兩筆資料集/everyday for the past 8 years：\n",
    "## i. 道瓊指數開高低收量\n",
    "## ii.Top 25 頭條"
   ]
  },
  {
   "cell_type": "markdown",
   "metadata": {},
   "source": [
    "# 以下我們專案處理會分為幾個階段：\n",
    "\n",
    "# 階段一：資料前處理\n",
    "　內容包括資料前處理、資料形態處理、NaN補值、correlation map、切分資料子集\n",
    "# 階段二：模型訓練與調整參數精準度\n",
    "## 　2.1 機器學習模型比較與參數微調\n",
    "　　　首先測試八種機器學習模型，後來挑出LDA和XGBoost，並對XGBoost進行重要特徵訓練、參數微調\n",
    "### 　　　2.1.1 Compare trainging model.\n",
    "### 　　　2.1.2 Fine Tuning XGBoost\n",
    "### 　　　2.1.3 Feature Importances:\n",
    "## 　2.2 PCA transformation:\n",
    "　　　套用PCA主成分分析，套用到XGBoost與其他的機器學習模型\n",
    "### 　　　2.2.1 PCA+XGB\n",
    "### 　　　2.2.2 研究各模型在pca數據調整後的表現情形\n",
    "### 　　　2.2.3不同主成分下XGboost的表現狀況\n",
    "# 階段三：實用性測試\n",
    "　改成預測隔日股市漲跌、拿掉volumn與close、拿掉sentiment analysis來做預測\n",
    "## 　3.1 隔日股票預測\n",
    "## 　3.2 實用性預測：短線資料無close,volume\n",
    "## 　3.3 只預測開高低收\n",
    "# 結論：這是一篇有誤導性的實作，新聞資料並未起到顯著協助預測的效果。然而以消息面來預測股市還是很重要，但可能必須先處理過新聞，挑出會影響股市的關鍵文本特徵，文本前處理後再投入預測中。"
   ]
  },
  {
   "cell_type": "markdown",
   "metadata": {},
   "source": [
    "### 首先載入需要的模組\n"
   ]
  },
  {
   "cell_type": "code",
   "execution_count": 167,
   "metadata": {},
   "outputs": [],
   "source": [
    "import pandas as pd\n",
    "import numpy as np\n",
    "import warnings\n",
    "from matplotlib import pyplot\n",
    "#from pandas import read_csv, set_option\n",
    "from pandas import Series, datetime\n",
    "from pandas.plotting import scatter_matrix, autocorrelation_plot\n",
    "from sklearn.preprocessing import StandardScaler\n",
    "from sklearn.model_selection import train_test_split, KFold, cross_val_score, GridSearchCV, TimeSeriesSplit\n",
    "from sklearn.metrics import classification_report, confusion_matrix, accuracy_score, mean_squared_error\n",
    "from sklearn.pipeline import Pipeline\n",
    "from sklearn.linear_model import LogisticRegression\n",
    "from sklearn.tree import DecisionTreeClassifier\n",
    "from sklearn.neighbors import KNeighborsClassifier\n",
    "from sklearn.discriminant_analysis import LinearDiscriminantAnalysis\n",
    "from sklearn.naive_bayes import GaussianNB\n",
    "from sklearn.svm import SVC\n",
    "from sklearn.ensemble import AdaBoostClassifier, GradientBoostingClassifier, RandomForestClassifier, ExtraTreesClassifier\n",
    "from sklearn.metrics import roc_curve, auc\n",
    "import matplotlib.pyplot as plt\n",
    "from statsmodels.graphics.tsaplots import plot_acf, plot_pacf\n",
    "from statsmodels.tsa.arima_model import ARIMA\n",
    "from xgboost import XGBClassifier"
   ]
  },
  {
   "cell_type": "markdown",
   "metadata": {},
   "source": [
    "# 階段一：資料前處理\n",
    "### 在另一專案資料夾「Sentence_Polarity/」已經將sentiment analysis 的五個指標分數作前處理\n",
    "### 並放在「Sentence_Polarity/combined_stock_data.csv」中\n",
    "### 另外DJIA的資料集放在「Sentence_Polarity/stocknews/DJIA_table.csv」\n",
    "### 我們先來查看此兩筆資料集\n",
    "\n"
   ]
  },
  {
   "cell_type": "code",
   "execution_count": 168,
   "metadata": {},
   "outputs": [
    {
     "data": {
      "text/html": [
       "<div>\n",
       "<style scoped>\n",
       "    .dataframe tbody tr th:only-of-type {\n",
       "        vertical-align: middle;\n",
       "    }\n",
       "\n",
       "    .dataframe tbody tr th {\n",
       "        vertical-align: top;\n",
       "    }\n",
       "\n",
       "    .dataframe thead th {\n",
       "        text-align: right;\n",
       "    }\n",
       "</style>\n",
       "<table border=\"1\" class=\"dataframe\">\n",
       "  <thead>\n",
       "    <tr style=\"text-align: right;\">\n",
       "      <th></th>\n",
       "      <th>Unnamed: 0</th>\n",
       "      <th>Date</th>\n",
       "      <th>Label</th>\n",
       "      <th>Top1</th>\n",
       "      <th>Top2</th>\n",
       "      <th>Top3</th>\n",
       "      <th>Top4</th>\n",
       "      <th>Top5</th>\n",
       "      <th>Top6</th>\n",
       "      <th>Top7</th>\n",
       "      <th>...</th>\n",
       "      <th>Top22</th>\n",
       "      <th>Top23</th>\n",
       "      <th>Top24</th>\n",
       "      <th>Top25</th>\n",
       "      <th>Para</th>\n",
       "      <th>Subjectivity</th>\n",
       "      <th>Objectivity</th>\n",
       "      <th>Positive</th>\n",
       "      <th>Neutral</th>\n",
       "      <th>Negative</th>\n",
       "    </tr>\n",
       "  </thead>\n",
       "  <tbody>\n",
       "    <tr>\n",
       "      <th>0</th>\n",
       "      <td>0</td>\n",
       "      <td>2008-08-08</td>\n",
       "      <td>0</td>\n",
       "      <td>b\"Georgia 'downs two Russian warplanes' as cou...</td>\n",
       "      <td>b'BREAKING: Musharraf to be impeached.'</td>\n",
       "      <td>b'Russia Today: Columns of troops roll into So...</td>\n",
       "      <td>b'Russian tanks are moving towards the capital...</td>\n",
       "      <td>b\"Afghan children raped with 'impunity,' U.N. ...</td>\n",
       "      <td>b'150 Russian tanks have entered South Ossetia...</td>\n",
       "      <td>b\"Breaking: Georgia invades South Ossetia, Rus...</td>\n",
       "      <td>...</td>\n",
       "      <td>b'Caucasus in crisis: Georgia invades South Os...</td>\n",
       "      <td>b'Indian shoe manufactory  - And again in a se...</td>\n",
       "      <td>b'Visitors Suffering from Mental Illnesses Ban...</td>\n",
       "      <td>b\"No Help for Mexico's Kidnapping Surge\"</td>\n",
       "      <td>b\"Georgia 'downs two Russian warplanes' as cou...</td>\n",
       "      <td>85.714286</td>\n",
       "      <td>14.285714</td>\n",
       "      <td>21.428571</td>\n",
       "      <td>14.285714</td>\n",
       "      <td>64.285714</td>\n",
       "    </tr>\n",
       "    <tr>\n",
       "      <th>1</th>\n",
       "      <td>1</td>\n",
       "      <td>2008-08-11</td>\n",
       "      <td>1</td>\n",
       "      <td>b'Why wont America and Nato help us? If they w...</td>\n",
       "      <td>b'Bush puts foot down on Georgian conflict'</td>\n",
       "      <td>b\"Jewish Georgian minister: Thanks to Israeli ...</td>\n",
       "      <td>b'Georgian army flees in disarray as Russians ...</td>\n",
       "      <td>b\"Olympic opening ceremony fireworks 'faked'\"</td>\n",
       "      <td>b'What were the Mossad with fraudulent New Zea...</td>\n",
       "      <td>b'Russia angered by Israeli military sale to G...</td>\n",
       "      <td>...</td>\n",
       "      <td>b' Russia has just beaten the United States ov...</td>\n",
       "      <td>b'Perhaps *the* question about the Georgia - R...</td>\n",
       "      <td>b'Russia is so much better at war'</td>\n",
       "      <td>b\"So this is what it's come to: trading sex fo...</td>\n",
       "      <td>b'Why wont America and Nato help us? If they w...</td>\n",
       "      <td>77.777778</td>\n",
       "      <td>22.222222</td>\n",
       "      <td>33.333333</td>\n",
       "      <td>22.222222</td>\n",
       "      <td>44.444444</td>\n",
       "    </tr>\n",
       "    <tr>\n",
       "      <th>2</th>\n",
       "      <td>2</td>\n",
       "      <td>2008-08-12</td>\n",
       "      <td>0</td>\n",
       "      <td>b'Remember that adorable 9-year-old who sang a...</td>\n",
       "      <td>b\"Russia 'ends Georgia operation'\"</td>\n",
       "      <td>b'\"If we had no sexual harassment we would hav...</td>\n",
       "      <td>b\"Al-Qa'eda is losing support in Iraq because ...</td>\n",
       "      <td>b'Ceasefire in Georgia: Putin Outmaneuvers the...</td>\n",
       "      <td>b'Why Microsoft and Intel tried to kill the XO...</td>\n",
       "      <td>b'Stratfor: The Russo-Georgian War and the Bal...</td>\n",
       "      <td>...</td>\n",
       "      <td>b'All signs point to the US encouraging Georgi...</td>\n",
       "      <td>b'Christopher King argues that the US and NATO...</td>\n",
       "      <td>b'America: The New Mexico?'</td>\n",
       "      <td>b\"BBC NEWS | Asia-Pacific | Extinction 'by man...</td>\n",
       "      <td>b'Remember that adorable 9-year-old who sang a...</td>\n",
       "      <td>50.000000</td>\n",
       "      <td>50.000000</td>\n",
       "      <td>14.285714</td>\n",
       "      <td>50.000000</td>\n",
       "      <td>35.714286</td>\n",
       "    </tr>\n",
       "    <tr>\n",
       "      <th>3</th>\n",
       "      <td>3</td>\n",
       "      <td>2008-08-13</td>\n",
       "      <td>0</td>\n",
       "      <td>b' U.S. refuses Israel weapons to attack Iran:...</td>\n",
       "      <td>b\"When the president ordered to attack Tskhinv...</td>\n",
       "      <td>b' Israel clears troops who killed Reuters cam...</td>\n",
       "      <td>b'Britain\\'s policy of being tough on drugs is...</td>\n",
       "      <td>b'Body of 14 year old found in trunk; Latest (...</td>\n",
       "      <td>b'China has moved 10 *million* quake survivors...</td>\n",
       "      <td>b\"Bush announces Operation Get All Up In Russi...</td>\n",
       "      <td>...</td>\n",
       "      <td>b'Witness: Russian forces head towards Tbilisi...</td>\n",
       "      <td>b' Quarter of Russians blame U.S. for conflict...</td>\n",
       "      <td>b'Georgian president  says US military will ta...</td>\n",
       "      <td>b'2006: Nobel laureate Aleksander Solzhenitsyn...</td>\n",
       "      <td>b' U.S. refuses Israel weapons to attack Iran:...</td>\n",
       "      <td>40.000000</td>\n",
       "      <td>60.000000</td>\n",
       "      <td>20.000000</td>\n",
       "      <td>60.000000</td>\n",
       "      <td>20.000000</td>\n",
       "    </tr>\n",
       "    <tr>\n",
       "      <th>4</th>\n",
       "      <td>4</td>\n",
       "      <td>2008-08-14</td>\n",
       "      <td>1</td>\n",
       "      <td>b'All the experts admit that we should legalis...</td>\n",
       "      <td>b'War in South Osetia - 89 pictures made by a ...</td>\n",
       "      <td>b'Swedish wrestler Ara Abrahamian throws away ...</td>\n",
       "      <td>b'Russia exaggerated the death toll in South O...</td>\n",
       "      <td>b'Missile That Killed 9 Inside Pakistan May Ha...</td>\n",
       "      <td>b\"Rushdie Condemns Random House's Refusal to P...</td>\n",
       "      <td>b'Poland and US agree to missle defense deal. ...</td>\n",
       "      <td>...</td>\n",
       "      <td>b'Taliban wages war on humanitarian aid workers'</td>\n",
       "      <td>b'Russia: World  \"can forget about\" Georgia\\'s...</td>\n",
       "      <td>b'Darfur rebels accuse Sudan of mounting major...</td>\n",
       "      <td>b'Philippines : Peace Advocate say Muslims nee...</td>\n",
       "      <td>b'All the experts admit that we should legalis...</td>\n",
       "      <td>45.454545</td>\n",
       "      <td>54.545455</td>\n",
       "      <td>36.363636</td>\n",
       "      <td>54.545455</td>\n",
       "      <td>9.090909</td>\n",
       "    </tr>\n",
       "  </tbody>\n",
       "</table>\n",
       "<p>5 rows × 34 columns</p>\n",
       "</div>"
      ],
      "text/plain": [
       "   Unnamed: 0       Date  Label  \\\n",
       "0           0 2008-08-08      0   \n",
       "1           1 2008-08-11      1   \n",
       "2           2 2008-08-12      0   \n",
       "3           3 2008-08-13      0   \n",
       "4           4 2008-08-14      1   \n",
       "\n",
       "                                                Top1  \\\n",
       "0  b\"Georgia 'downs two Russian warplanes' as cou...   \n",
       "1  b'Why wont America and Nato help us? If they w...   \n",
       "2  b'Remember that adorable 9-year-old who sang a...   \n",
       "3  b' U.S. refuses Israel weapons to attack Iran:...   \n",
       "4  b'All the experts admit that we should legalis...   \n",
       "\n",
       "                                                Top2  \\\n",
       "0            b'BREAKING: Musharraf to be impeached.'   \n",
       "1        b'Bush puts foot down on Georgian conflict'   \n",
       "2                 b\"Russia 'ends Georgia operation'\"   \n",
       "3  b\"When the president ordered to attack Tskhinv...   \n",
       "4  b'War in South Osetia - 89 pictures made by a ...   \n",
       "\n",
       "                                                Top3  \\\n",
       "0  b'Russia Today: Columns of troops roll into So...   \n",
       "1  b\"Jewish Georgian minister: Thanks to Israeli ...   \n",
       "2  b'\"If we had no sexual harassment we would hav...   \n",
       "3  b' Israel clears troops who killed Reuters cam...   \n",
       "4  b'Swedish wrestler Ara Abrahamian throws away ...   \n",
       "\n",
       "                                                Top4  \\\n",
       "0  b'Russian tanks are moving towards the capital...   \n",
       "1  b'Georgian army flees in disarray as Russians ...   \n",
       "2  b\"Al-Qa'eda is losing support in Iraq because ...   \n",
       "3  b'Britain\\'s policy of being tough on drugs is...   \n",
       "4  b'Russia exaggerated the death toll in South O...   \n",
       "\n",
       "                                                Top5  \\\n",
       "0  b\"Afghan children raped with 'impunity,' U.N. ...   \n",
       "1      b\"Olympic opening ceremony fireworks 'faked'\"   \n",
       "2  b'Ceasefire in Georgia: Putin Outmaneuvers the...   \n",
       "3  b'Body of 14 year old found in trunk; Latest (...   \n",
       "4  b'Missile That Killed 9 Inside Pakistan May Ha...   \n",
       "\n",
       "                                                Top6  \\\n",
       "0  b'150 Russian tanks have entered South Ossetia...   \n",
       "1  b'What were the Mossad with fraudulent New Zea...   \n",
       "2  b'Why Microsoft and Intel tried to kill the XO...   \n",
       "3  b'China has moved 10 *million* quake survivors...   \n",
       "4  b\"Rushdie Condemns Random House's Refusal to P...   \n",
       "\n",
       "                                                Top7  ...  \\\n",
       "0  b\"Breaking: Georgia invades South Ossetia, Rus...  ...   \n",
       "1  b'Russia angered by Israeli military sale to G...  ...   \n",
       "2  b'Stratfor: The Russo-Georgian War and the Bal...  ...   \n",
       "3  b\"Bush announces Operation Get All Up In Russi...  ...   \n",
       "4  b'Poland and US agree to missle defense deal. ...  ...   \n",
       "\n",
       "                                               Top22  \\\n",
       "0  b'Caucasus in crisis: Georgia invades South Os...   \n",
       "1  b' Russia has just beaten the United States ov...   \n",
       "2  b'All signs point to the US encouraging Georgi...   \n",
       "3  b'Witness: Russian forces head towards Tbilisi...   \n",
       "4   b'Taliban wages war on humanitarian aid workers'   \n",
       "\n",
       "                                               Top23  \\\n",
       "0  b'Indian shoe manufactory  - And again in a se...   \n",
       "1  b'Perhaps *the* question about the Georgia - R...   \n",
       "2  b'Christopher King argues that the US and NATO...   \n",
       "3  b' Quarter of Russians blame U.S. for conflict...   \n",
       "4  b'Russia: World  \"can forget about\" Georgia\\'s...   \n",
       "\n",
       "                                               Top24  \\\n",
       "0  b'Visitors Suffering from Mental Illnesses Ban...   \n",
       "1                 b'Russia is so much better at war'   \n",
       "2                        b'America: The New Mexico?'   \n",
       "3  b'Georgian president  says US military will ta...   \n",
       "4  b'Darfur rebels accuse Sudan of mounting major...   \n",
       "\n",
       "                                               Top25  \\\n",
       "0           b\"No Help for Mexico's Kidnapping Surge\"   \n",
       "1  b\"So this is what it's come to: trading sex fo...   \n",
       "2  b\"BBC NEWS | Asia-Pacific | Extinction 'by man...   \n",
       "3  b'2006: Nobel laureate Aleksander Solzhenitsyn...   \n",
       "4  b'Philippines : Peace Advocate say Muslims nee...   \n",
       "\n",
       "                                                Para Subjectivity Objectivity  \\\n",
       "0  b\"Georgia 'downs two Russian warplanes' as cou...    85.714286   14.285714   \n",
       "1  b'Why wont America and Nato help us? If they w...    77.777778   22.222222   \n",
       "2  b'Remember that adorable 9-year-old who sang a...    50.000000   50.000000   \n",
       "3  b' U.S. refuses Israel weapons to attack Iran:...    40.000000   60.000000   \n",
       "4  b'All the experts admit that we should legalis...    45.454545   54.545455   \n",
       "\n",
       "    Positive    Neutral   Negative  \n",
       "0  21.428571  14.285714  64.285714  \n",
       "1  33.333333  22.222222  44.444444  \n",
       "2  14.285714  50.000000  35.714286  \n",
       "3  20.000000  60.000000  20.000000  \n",
       "4  36.363636  54.545455   9.090909  \n",
       "\n",
       "[5 rows x 34 columns]"
      ]
     },
     "execution_count": 168,
     "metadata": {},
     "output_type": "execute_result"
    }
   ],
   "source": [
    "# Loading the dataset to a dataframe\n",
    "sentence_file = \"Sentence_Polarity/combined_stock_data.csv\"\n",
    "sentence_df = pd.read_csv(sentence_file, parse_dates=[1])\n",
    "sentence_df.head()"
   ]
  },
  {
   "cell_type": "code",
   "execution_count": 169,
   "metadata": {},
   "outputs": [
    {
     "data": {
      "text/html": [
       "<div>\n",
       "<style scoped>\n",
       "    .dataframe tbody tr th:only-of-type {\n",
       "        vertical-align: middle;\n",
       "    }\n",
       "\n",
       "    .dataframe tbody tr th {\n",
       "        vertical-align: top;\n",
       "    }\n",
       "\n",
       "    .dataframe thead th {\n",
       "        text-align: right;\n",
       "    }\n",
       "</style>\n",
       "<table border=\"1\" class=\"dataframe\">\n",
       "  <thead>\n",
       "    <tr style=\"text-align: right;\">\n",
       "      <th></th>\n",
       "      <th>Date</th>\n",
       "      <th>Open</th>\n",
       "      <th>High</th>\n",
       "      <th>Low</th>\n",
       "      <th>Close</th>\n",
       "      <th>Volume</th>\n",
       "      <th>Adj Close</th>\n",
       "    </tr>\n",
       "  </thead>\n",
       "  <tbody>\n",
       "    <tr>\n",
       "      <th>0</th>\n",
       "      <td>2016-07-01</td>\n",
       "      <td>17924.240234</td>\n",
       "      <td>18002.380859</td>\n",
       "      <td>17916.910156</td>\n",
       "      <td>17949.369141</td>\n",
       "      <td>82160000</td>\n",
       "      <td>17949.369141</td>\n",
       "    </tr>\n",
       "    <tr>\n",
       "      <th>1</th>\n",
       "      <td>2016-06-30</td>\n",
       "      <td>17712.759766</td>\n",
       "      <td>17930.609375</td>\n",
       "      <td>17711.800781</td>\n",
       "      <td>17929.990234</td>\n",
       "      <td>133030000</td>\n",
       "      <td>17929.990234</td>\n",
       "    </tr>\n",
       "    <tr>\n",
       "      <th>2</th>\n",
       "      <td>2016-06-29</td>\n",
       "      <td>17456.019531</td>\n",
       "      <td>17704.509766</td>\n",
       "      <td>17456.019531</td>\n",
       "      <td>17694.679688</td>\n",
       "      <td>106380000</td>\n",
       "      <td>17694.679688</td>\n",
       "    </tr>\n",
       "    <tr>\n",
       "      <th>3</th>\n",
       "      <td>2016-06-28</td>\n",
       "      <td>17190.509766</td>\n",
       "      <td>17409.720703</td>\n",
       "      <td>17190.509766</td>\n",
       "      <td>17409.720703</td>\n",
       "      <td>112190000</td>\n",
       "      <td>17409.720703</td>\n",
       "    </tr>\n",
       "    <tr>\n",
       "      <th>4</th>\n",
       "      <td>2016-06-27</td>\n",
       "      <td>17355.210938</td>\n",
       "      <td>17355.210938</td>\n",
       "      <td>17063.080078</td>\n",
       "      <td>17140.240234</td>\n",
       "      <td>138740000</td>\n",
       "      <td>17140.240234</td>\n",
       "    </tr>\n",
       "  </tbody>\n",
       "</table>\n",
       "</div>"
      ],
      "text/plain": [
       "        Date          Open          High           Low         Close  \\\n",
       "0 2016-07-01  17924.240234  18002.380859  17916.910156  17949.369141   \n",
       "1 2016-06-30  17712.759766  17930.609375  17711.800781  17929.990234   \n",
       "2 2016-06-29  17456.019531  17704.509766  17456.019531  17694.679688   \n",
       "3 2016-06-28  17190.509766  17409.720703  17190.509766  17409.720703   \n",
       "4 2016-06-27  17355.210938  17355.210938  17063.080078  17140.240234   \n",
       "\n",
       "      Volume     Adj Close  \n",
       "0   82160000  17949.369141  \n",
       "1  133030000  17929.990234  \n",
       "2  106380000  17694.679688  \n",
       "3  112190000  17409.720703  \n",
       "4  138740000  17140.240234  "
      ]
     },
     "execution_count": 169,
     "metadata": {},
     "output_type": "execute_result"
    }
   ],
   "source": [
    "# Load the stock prices dataset into a dataframe and check the top 5 rows\n",
    "stock_prices = \"Sentence_Polarity/stocknews/DJIA_table.csv\"\n",
    "stock_data = pd.read_csv(stock_prices, parse_dates=[0])\n",
    "stock_data.head()"
   ]
  },
  {
   "cell_type": "markdown",
   "metadata": {},
   "source": [
    "## 我們將兩筆資料做合併處理\n",
    "### 我們將這五個特徵(Subjectivity, Objectivity, Positive, Negative, Neutral) 與stock_data dataframe結合."
   ]
  },
  {
   "cell_type": "code",
   "execution_count": 170,
   "metadata": {},
   "outputs": [
    {
     "name": "stdout",
     "output_type": "stream",
     "text": [
      "(1989, 13)\n",
      "['Date', 'Label', 'Subjectivity', 'Objectivity', 'Positive', 'Negative', 'Neutral', 'Open', 'High', 'Low', 'Close', 'Volume', 'Adj Close']\n"
     ]
    },
    {
     "data": {
      "text/html": [
       "<div>\n",
       "<style scoped>\n",
       "    .dataframe tbody tr th:only-of-type {\n",
       "        vertical-align: middle;\n",
       "    }\n",
       "\n",
       "    .dataframe tbody tr th {\n",
       "        vertical-align: top;\n",
       "    }\n",
       "\n",
       "    .dataframe thead th {\n",
       "        text-align: right;\n",
       "    }\n",
       "</style>\n",
       "<table border=\"1\" class=\"dataframe\">\n",
       "  <thead>\n",
       "    <tr style=\"text-align: right;\">\n",
       "      <th></th>\n",
       "      <th>Date</th>\n",
       "      <th>Subjectivity</th>\n",
       "      <th>Objectivity</th>\n",
       "      <th>Positive</th>\n",
       "      <th>Negative</th>\n",
       "      <th>Neutral</th>\n",
       "      <th>Open</th>\n",
       "      <th>High</th>\n",
       "      <th>Low</th>\n",
       "      <th>Close</th>\n",
       "      <th>Volume</th>\n",
       "      <th>Adj Close</th>\n",
       "      <th>Label</th>\n",
       "    </tr>\n",
       "  </thead>\n",
       "  <tbody>\n",
       "    <tr>\n",
       "      <th>1988</th>\n",
       "      <td>2008-08-08</td>\n",
       "      <td>85.714286</td>\n",
       "      <td>14.285714</td>\n",
       "      <td>21.428571</td>\n",
       "      <td>64.285714</td>\n",
       "      <td>14.285714</td>\n",
       "      <td>11432.089844</td>\n",
       "      <td>11759.959961</td>\n",
       "      <td>11388.040039</td>\n",
       "      <td>11734.320312</td>\n",
       "      <td>212830000</td>\n",
       "      <td>11734.320312</td>\n",
       "      <td>0</td>\n",
       "    </tr>\n",
       "    <tr>\n",
       "      <th>1987</th>\n",
       "      <td>2008-08-11</td>\n",
       "      <td>77.777778</td>\n",
       "      <td>22.222222</td>\n",
       "      <td>33.333333</td>\n",
       "      <td>44.444444</td>\n",
       "      <td>22.222222</td>\n",
       "      <td>11729.669922</td>\n",
       "      <td>11867.110352</td>\n",
       "      <td>11675.530273</td>\n",
       "      <td>11782.349609</td>\n",
       "      <td>183190000</td>\n",
       "      <td>11782.349609</td>\n",
       "      <td>1</td>\n",
       "    </tr>\n",
       "    <tr>\n",
       "      <th>1986</th>\n",
       "      <td>2008-08-12</td>\n",
       "      <td>50.000000</td>\n",
       "      <td>50.000000</td>\n",
       "      <td>14.285714</td>\n",
       "      <td>35.714286</td>\n",
       "      <td>50.000000</td>\n",
       "      <td>11781.700195</td>\n",
       "      <td>11782.349609</td>\n",
       "      <td>11601.519531</td>\n",
       "      <td>11642.469727</td>\n",
       "      <td>173590000</td>\n",
       "      <td>11642.469727</td>\n",
       "      <td>0</td>\n",
       "    </tr>\n",
       "    <tr>\n",
       "      <th>1985</th>\n",
       "      <td>2008-08-13</td>\n",
       "      <td>40.000000</td>\n",
       "      <td>60.000000</td>\n",
       "      <td>20.000000</td>\n",
       "      <td>20.000000</td>\n",
       "      <td>60.000000</td>\n",
       "      <td>11632.809570</td>\n",
       "      <td>11633.780273</td>\n",
       "      <td>11453.339844</td>\n",
       "      <td>11532.959961</td>\n",
       "      <td>182550000</td>\n",
       "      <td>11532.959961</td>\n",
       "      <td>0</td>\n",
       "    </tr>\n",
       "    <tr>\n",
       "      <th>1984</th>\n",
       "      <td>2008-08-14</td>\n",
       "      <td>45.454545</td>\n",
       "      <td>54.545455</td>\n",
       "      <td>36.363636</td>\n",
       "      <td>9.090909</td>\n",
       "      <td>54.545455</td>\n",
       "      <td>11532.070312</td>\n",
       "      <td>11718.280273</td>\n",
       "      <td>11450.889648</td>\n",
       "      <td>11615.929688</td>\n",
       "      <td>159790000</td>\n",
       "      <td>11615.929688</td>\n",
       "      <td>1</td>\n",
       "    </tr>\n",
       "  </tbody>\n",
       "</table>\n",
       "</div>"
      ],
      "text/plain": [
       "           Date  Subjectivity  Objectivity   Positive   Negative    Neutral  \\\n",
       "1988 2008-08-08     85.714286    14.285714  21.428571  64.285714  14.285714   \n",
       "1987 2008-08-11     77.777778    22.222222  33.333333  44.444444  22.222222   \n",
       "1986 2008-08-12     50.000000    50.000000  14.285714  35.714286  50.000000   \n",
       "1985 2008-08-13     40.000000    60.000000  20.000000  20.000000  60.000000   \n",
       "1984 2008-08-14     45.454545    54.545455  36.363636   9.090909  54.545455   \n",
       "\n",
       "              Open          High           Low         Close     Volume  \\\n",
       "1988  11432.089844  11759.959961  11388.040039  11734.320312  212830000   \n",
       "1987  11729.669922  11867.110352  11675.530273  11782.349609  183190000   \n",
       "1986  11781.700195  11782.349609  11601.519531  11642.469727  173590000   \n",
       "1985  11632.809570  11633.780273  11453.339844  11532.959961  182550000   \n",
       "1984  11532.070312  11718.280273  11450.889648  11615.929688  159790000   \n",
       "\n",
       "         Adj Close  Label  \n",
       "1988  11734.320312      0  \n",
       "1987  11782.349609      1  \n",
       "1986  11642.469727      0  \n",
       "1985  11532.959961      0  \n",
       "1984  11615.929688      1  "
      ]
     },
     "execution_count": 170,
     "metadata": {},
     "output_type": "execute_result"
    }
   ],
   "source": [
    "# Create a dataframe by merging the headlines and the stock prices dataframe\n",
    "merged_dataframe = sentence_df[['Date', 'Label', 'Subjectivity', 'Objectivity', 'Positive', 'Negative', 'Neutral']].merge(stock_data, how='inner', on='Date', left_index=True)\n",
    "# Check the shape and top 5 rows of the merged dataframe\n",
    "print(merged_dataframe.shape)\n",
    "# Push the Label column to the end of the dataframe\n",
    "cols = list(merged_dataframe)\n",
    "print(cols)\n",
    "cols.append(cols.pop(cols.index('Label')))\n",
    "merged_dataframe = merged_dataframe.loc[:, cols]\n",
    "merged_dataframe.head()"
   ]
  },
  {
   "cell_type": "markdown",
   "metadata": {},
   "source": [
    "## 接著我們要將資料型態一致化，以方便後續運算處理（把Volume處理成float型態）\n"
   ]
  },
  {
   "cell_type": "code",
   "execution_count": 171,
   "metadata": {},
   "outputs": [
    {
     "name": "stdout",
     "output_type": "stream",
     "text": [
      "Date            datetime64[ns]\n",
      "Subjectivity           float64\n",
      "Objectivity            float64\n",
      "Positive               float64\n",
      "Negative               float64\n",
      "Neutral                float64\n",
      "Open                   float64\n",
      "High                   float64\n",
      "Low                    float64\n",
      "Close                  float64\n",
      "Volume                   int64\n",
      "Adj Close              float64\n",
      "Label                    int64\n",
      "dtype: object\n",
      "['Date', 'Subjectivity', 'Objectivity', 'Positive', 'Negative', 'Neutral', 'Open', 'High', 'Low', 'Close', 'Volume', 'Adj Close', 'Label']\n"
     ]
    },
    {
     "data": {
      "text/html": [
       "<div>\n",
       "<style scoped>\n",
       "    .dataframe tbody tr th:only-of-type {\n",
       "        vertical-align: middle;\n",
       "    }\n",
       "\n",
       "    .dataframe tbody tr th {\n",
       "        vertical-align: top;\n",
       "    }\n",
       "\n",
       "    .dataframe thead th {\n",
       "        text-align: right;\n",
       "    }\n",
       "</style>\n",
       "<table border=\"1\" class=\"dataframe\">\n",
       "  <thead>\n",
       "    <tr style=\"text-align: right;\">\n",
       "      <th></th>\n",
       "      <th>Date</th>\n",
       "      <th>Subjectivity</th>\n",
       "      <th>Objectivity</th>\n",
       "      <th>Positive</th>\n",
       "      <th>Negative</th>\n",
       "      <th>Neutral</th>\n",
       "      <th>Open</th>\n",
       "      <th>High</th>\n",
       "      <th>Low</th>\n",
       "      <th>Close</th>\n",
       "      <th>Volume</th>\n",
       "      <th>Adj Close</th>\n",
       "      <th>Label</th>\n",
       "    </tr>\n",
       "  </thead>\n",
       "  <tbody>\n",
       "    <tr>\n",
       "      <th>0</th>\n",
       "      <td>2008-08-08</td>\n",
       "      <td>85.714286</td>\n",
       "      <td>14.285714</td>\n",
       "      <td>21.428571</td>\n",
       "      <td>64.285714</td>\n",
       "      <td>14.285714</td>\n",
       "      <td>11432.089844</td>\n",
       "      <td>11759.959961</td>\n",
       "      <td>11388.040039</td>\n",
       "      <td>11734.320312</td>\n",
       "      <td>212830000.0</td>\n",
       "      <td>11734.320312</td>\n",
       "      <td>0</td>\n",
       "    </tr>\n",
       "    <tr>\n",
       "      <th>1</th>\n",
       "      <td>2008-08-11</td>\n",
       "      <td>77.777778</td>\n",
       "      <td>22.222222</td>\n",
       "      <td>33.333333</td>\n",
       "      <td>44.444444</td>\n",
       "      <td>22.222222</td>\n",
       "      <td>11729.669922</td>\n",
       "      <td>11867.110352</td>\n",
       "      <td>11675.530273</td>\n",
       "      <td>11782.349609</td>\n",
       "      <td>183190000.0</td>\n",
       "      <td>11782.349609</td>\n",
       "      <td>1</td>\n",
       "    </tr>\n",
       "    <tr>\n",
       "      <th>2</th>\n",
       "      <td>2008-08-12</td>\n",
       "      <td>50.000000</td>\n",
       "      <td>50.000000</td>\n",
       "      <td>14.285714</td>\n",
       "      <td>35.714286</td>\n",
       "      <td>50.000000</td>\n",
       "      <td>11781.700195</td>\n",
       "      <td>11782.349609</td>\n",
       "      <td>11601.519531</td>\n",
       "      <td>11642.469727</td>\n",
       "      <td>173590000.0</td>\n",
       "      <td>11642.469727</td>\n",
       "      <td>0</td>\n",
       "    </tr>\n",
       "    <tr>\n",
       "      <th>3</th>\n",
       "      <td>2008-08-13</td>\n",
       "      <td>40.000000</td>\n",
       "      <td>60.000000</td>\n",
       "      <td>20.000000</td>\n",
       "      <td>20.000000</td>\n",
       "      <td>60.000000</td>\n",
       "      <td>11632.809570</td>\n",
       "      <td>11633.780273</td>\n",
       "      <td>11453.339844</td>\n",
       "      <td>11532.959961</td>\n",
       "      <td>182550000.0</td>\n",
       "      <td>11532.959961</td>\n",
       "      <td>0</td>\n",
       "    </tr>\n",
       "    <tr>\n",
       "      <th>4</th>\n",
       "      <td>2008-08-14</td>\n",
       "      <td>45.454545</td>\n",
       "      <td>54.545455</td>\n",
       "      <td>36.363636</td>\n",
       "      <td>9.090909</td>\n",
       "      <td>54.545455</td>\n",
       "      <td>11532.070312</td>\n",
       "      <td>11718.280273</td>\n",
       "      <td>11450.889648</td>\n",
       "      <td>11615.929688</td>\n",
       "      <td>159790000.0</td>\n",
       "      <td>11615.929688</td>\n",
       "      <td>1</td>\n",
       "    </tr>\n",
       "  </tbody>\n",
       "</table>\n",
       "</div>"
      ],
      "text/plain": [
       "        Date  Subjectivity  Objectivity   Positive   Negative    Neutral  \\\n",
       "0 2008-08-08     85.714286    14.285714  21.428571  64.285714  14.285714   \n",
       "1 2008-08-11     77.777778    22.222222  33.333333  44.444444  22.222222   \n",
       "2 2008-08-12     50.000000    50.000000  14.285714  35.714286  50.000000   \n",
       "3 2008-08-13     40.000000    60.000000  20.000000  20.000000  60.000000   \n",
       "4 2008-08-14     45.454545    54.545455  36.363636   9.090909  54.545455   \n",
       "\n",
       "           Open          High           Low         Close       Volume  \\\n",
       "0  11432.089844  11759.959961  11388.040039  11734.320312  212830000.0   \n",
       "1  11729.669922  11867.110352  11675.530273  11782.349609  183190000.0   \n",
       "2  11781.700195  11782.349609  11601.519531  11642.469727  173590000.0   \n",
       "3  11632.809570  11633.780273  11453.339844  11532.959961  182550000.0   \n",
       "4  11532.070312  11718.280273  11450.889648  11615.929688  159790000.0   \n",
       "\n",
       "      Adj Close  Label  \n",
       "0  11734.320312      0  \n",
       "1  11782.349609      1  \n",
       "2  11642.469727      0  \n",
       "3  11532.959961      0  \n",
       "4  11615.929688      1  "
      ]
     },
     "execution_count": 171,
     "metadata": {},
     "output_type": "execute_result"
    }
   ],
   "source": [
    "print(merged_dataframe.dtypes)\n",
    "# Change the datatype of the volume column to float\n",
    "#merged_dataframe['Date'] = pd.to_datetime(merged_dataframe['Date'])\n",
    "merged_dataframe['Volume'] = merged_dataframe['Volume'].astype(float)\n",
    "print(cols)\n",
    "#merged_dataframe = merged_dataframe.set_index(['Date'])\n",
    "merged_dataframe.index = merged_dataframe.index.sort_values()\n",
    "merged_dataframe.head()"
   ]
  },
  {
   "cell_type": "markdown",
   "metadata": {},
   "source": [
    "## 讓我們確認資料特徵的中位數、平均、標準差等統計敘述\n"
   ]
  },
  {
   "cell_type": "code",
   "execution_count": 172,
   "metadata": {},
   "outputs": [
    {
     "name": "stdout",
     "output_type": "stream",
     "text": [
      "       Subjectivity  Objectivity     Positive     Negative      Neutral  \\\n",
      "count   1986.000000  1986.000000  1986.000000  1986.000000  1986.000000   \n",
      "mean      60.907326    39.092674    20.812822    40.094504    39.092674   \n",
      "std       22.090719    22.090719    18.162142    22.747962    22.090719   \n",
      "min        0.000000     0.000000     0.000000     0.000000     0.000000   \n",
      "25%       43.750000    25.000000     7.142857    25.000000    25.000000   \n",
      "50%       57.142857    42.857143    18.898810    36.363636    42.857143   \n",
      "75%       75.000000    56.250000    31.496711    50.000000    56.250000   \n",
      "max      100.000000   100.000000   100.000000   100.000000   100.000000   \n",
      "\n",
      "               Open          High           Low         Close        Volume  \\\n",
      "count   1989.000000   1989.000000   1989.000000   1989.000000  1.989000e+03   \n",
      "mean   13459.116048  13541.303173  13372.931728  13463.032255  1.628110e+08   \n",
      "std     3143.281634   3136.271725   3150.420934   3144.006996  9.392343e+07   \n",
      "min     6547.009766   6709.609863   6469.950195   6547.049805  8.410000e+06   \n",
      "25%    10907.339844  11000.980469  10824.759766  10913.379883  1.000000e+08   \n",
      "50%    13022.049805  13088.110352  12953.129883  13025.580078  1.351700e+08   \n",
      "75%    16477.699219  16550.070312  16392.769531  16478.410156  1.926000e+08   \n",
      "max    18315.060547  18351.359375  18272.560547  18312.390625  6.749200e+08   \n",
      "\n",
      "          Adj Close        Label  \n",
      "count   1989.000000  1989.000000  \n",
      "mean   13463.032255     0.535445  \n",
      "std     3144.006996     0.498867  \n",
      "min     6547.049805     0.000000  \n",
      "25%    10913.379883     0.000000  \n",
      "50%    13025.580078     1.000000  \n",
      "75%    16478.410156     1.000000  \n",
      "max    18312.390625     1.000000  \n"
     ]
    }
   ],
   "source": [
    "# Check the statistics of the columns of the merged dataframe and check for outliers\n",
    "print(merged_dataframe.describe())"
   ]
  },
  {
   "cell_type": "markdown",
   "metadata": {},
   "source": [
    "## 接著我們先來看是否有NaN的資料存在。\n",
    "\n",
    "### 視覺化NaN 讓我們能夠更清楚的看到NaN資料的分布。以下是我們NaN values的圖表。白線是NaN資料的位置，我們可以看到NaN資料都集中在特定幾天份的情感column，而右側垂直線顯示我們共只有3筆NaN資料\n",
    "\n",
    "#### In this case, since the NaN values are so less, it doesn't matter much in the prediction of the model. However, it is important for the NaN values to be replaced. As discuseed earlier, we will replace the NaN values with the mean value of the respective column."
   ]
  },
  {
   "cell_type": "code",
   "execution_count": 173,
   "metadata": {},
   "outputs": [
    {
     "data": {
      "text/plain": [
       "<matplotlib.axes._subplots.AxesSubplot at 0x7fd8301bc7b8>"
      ]
     },
     "execution_count": 173,
     "metadata": {},
     "output_type": "execute_result"
    },
    {
     "data": {
      "image/png": "[encoded data removed]",
      "text/plain": [
       "<Figure size 1440x1008 with 2 Axes>"
      ]
     },
     "metadata": {
      "needs_background": "light"
     },
     "output_type": "display_data"
    }
   ],
   "source": [
    "md_copy = merged_dataframe\n",
    "md_copy = md_copy.replace(-1, np.NaN)\n",
    "import missingno as msno\n",
    "# Nullity or missing values by columns\n",
    "msno.matrix(df=md_copy.iloc[:,0:13], figsize=(20, 14), color=(0.42, 0.1, 0.05))"
   ]
  },
  {
   "cell_type": "code",
   "execution_count": 174,
   "metadata": {},
   "outputs": [
    {
     "name": "stdout",
     "output_type": "stream",
     "text": [
      "Date            1989\n",
      "Subjectivity    1986\n",
      "Objectivity     1986\n",
      "Positive        1986\n",
      "Negative        1986\n",
      "Neutral         1986\n",
      "Open            1989\n",
      "High            1989\n",
      "Low             1989\n",
      "Close           1989\n",
      "Volume          1989\n",
      "Adj Close       1989\n",
      "Label           1989\n",
      "dtype: int64\n"
     ]
    }
   ],
   "source": [
    "# 查看各資料的資料型態和數量\n",
    "print(merged_dataframe.count())\n",
    "# 把NaN數據改為該特徵的平均分數\n",
    "nan_list = ['Subjectivity', 'Objectivity', 'Positive', 'Negative', 'Neutral']\n",
    "for col in nan_list:\n",
    "    merged_dataframe[col] = merged_dataframe[col].fillna(merged_dataframe[col].mean())\n",
    "#fillna是用在填充NaN數據"
   ]
  },
  {
   "cell_type": "markdown",
   "metadata": {},
   "source": [
    "## Correlation Map for features:\n",
    "\n",
    "### 我們來觀察資料的特徵column彼此間的相關性\n",
    "### 在此我們有幾個發現：\n",
    "### 1. Objectivity 與Neutral的相關性 = 1，兩者也確實都相同\n",
    "### 2. Subjectivity與Objectivity,Neutral 相關性 = -1，即剛好是互補關係（相加等於1）\n",
    "### 3. 開高低收特徵彼此相關性 = 1，應是由於當日的開高低收就是小數點到個位數上的差異，故大小相近。\n",
    "### 4. 每一筆特徵單獨與Label(y data)的關聯性很低"
   ]
  },
  {
   "cell_type": "code",
   "execution_count": 175,
   "metadata": {
    "scrolled": false
   },
   "outputs": [
    {
     "data": {
      "image/png": "[encoded data removed]",
      "text/plain": [
       "<Figure size 1152x864 with 2 Axes>"
      ]
     },
     "metadata": {
      "needs_background": "light"
     },
     "output_type": "display_data"
    }
   ],
   "source": [
    "colormap = pyplot.cm.afmhot\n",
    "pyplot.figure(figsize=(16,12))\n",
    "pyplot.title('Pearson correlation of continuous features', y=1.05, size=15)\n",
    "sns.heatmap(merged_dataframe.corr(),linewidths=0.1,vmax=1.0, square=True, \n",
    "            cmap=colormap, linecolor='white', annot=True)\n",
    "pyplot.show()"
   ]
  },
  {
   "cell_type": "markdown",
   "metadata": {},
   "source": [
    "# 階段二：模型訓練與調整參數精準度\n",
    "\n",
    "# 2.1 機器學習模型比較與參數微調\n",
    "# 2.1.1 Compare trainging model.\n",
    "## 接著我們挑選機器學習模型\n",
    "\n",
    "Logistic Regression\n",
    "Linear Discriminant Analysis\n",
    "K Nearest Neighbors\n",
    "Naive Bayes\n",
    "Support Vector Classifier\n",
    "Decision trees\n",
    "Random Forest Classifier\n",
    "XGBoost\n",
    "\n",
    "## 在資料集上我們將會用兩種分法：\n",
    "### 一組是模型比較 training set : 1393 , testing set : 596\n",
    "### 一組是參數微調 training set : 1393, validation set : 298 , testing set : 298"
   ]
  },
  {
   "cell_type": "markdown",
   "metadata": {},
   "source": [
    "## 分配train set, test set"
   ]
  },
  {
   "cell_type": "code",
   "execution_count": 176,
   "metadata": {},
   "outputs": [
    {
     "name": "stdout",
     "output_type": "stream",
     "text": [
      "Observations: 1989\n",
      "X Training Observations: 1393\n",
      "X Testing Observations: 596\n",
      "y Training Observations: 1393\n",
      "y Testing Observations: 596\n"
     ]
    },
    {
     "data": {
      "text/plain": [
       "\"\\npyplot.plot(y_train)\\npyplot.plot([None for i in y_train] + [x for x in y_test])\\npyplot.xlabel('time')\\npyplot.ylabel('y data')\\npyplot.title('y data train,test Schematic diagram')\\npyplot.show()\\nnum_folds = 10\\nscoring = 'accuracy'\\n\""
      ]
     },
     "execution_count": 176,
     "metadata": {},
     "output_type": "execute_result"
    }
   ],
   "source": [
    "X = merged_dataframe.loc[:,'Subjectivity':'Adj Close']\n",
    "y = merged_dataframe.loc[:,'Label']\n",
    "\n",
    "\n",
    "# Split the initial 70% of the data as training set and the remaining 30% data as the testing set\n",
    "train_size = int(len(X.index) * 0.7)\n",
    "X_train, X_test = X.loc[0:train_size, :], X.loc[train_size+1: len(X.index), :]\n",
    "y_train, y_test = y.loc[0:train_size], y.loc[train_size+1: len(X.index)]\n",
    "\n",
    "print('Observations: %d' % (len(X.index)))\n",
    "print('X Training Observations: %d' % (len(X_train.index)))\n",
    "print('X Testing Observations: %d' % (len(X_test.index)))\n",
    "print('y Training Observations: %d' % (len(y_train)))\n",
    "print('y Testing Observations: %d' % (len(y_test)))\n",
    "\"\"\"\n",
    "pyplot.plot(y_train)\n",
    "pyplot.plot([None for i in y_train] + [x for x in y_test])\n",
    "pyplot.xlabel('time')\n",
    "pyplot.ylabel('y data')\n",
    "pyplot.title('y data train,test Schematic diagram')\n",
    "pyplot.show()\n",
    "num_folds = 10\n",
    "scoring = 'accuracy'\n",
    "\"\"\""
   ]
  },
  {
   "cell_type": "markdown",
   "metadata": {},
   "source": [
    "## 分配train, validation, test set"
   ]
  },
  {
   "cell_type": "code",
   "execution_count": 177,
   "metadata": {},
   "outputs": [
    {
     "name": "stdout",
     "output_type": "stream",
     "text": [
      "Observations: 1989\n",
      "X Training Observations: 1393\n",
      "X Validation Observations: 298\n",
      "X Testing Observations: 298\n",
      "y Training Observations: 1393\n",
      "y Validation Observations: 298\n",
      "y Testing Observations: 298\n"
     ]
    },
    {
     "data": {
      "text/plain": [
       "\"\\npyplot.plot(y_train_finetune)\\npyplot.plot([None for i in y_train_finetune] + [x for x in y_validation_finetune])\\npyplot.plot([None for i in y_train_finetune] + [None for i in y_validation_finetune] + [x for x in y_test_finetune])\\npyplot.xlabel('time')\\npyplot.ylabel('y data')\\npyplot.title('y data train,validation,test Schematic diagram')\\npyplot.show()\\nnum_folds = 10\\nscoring = 'accuracy'\\n\""
      ]
     },
     "execution_count": 177,
     "metadata": {},
     "output_type": "execute_result"
    }
   ],
   "source": [
    "# Separate the dataframe for input(X) and output variables(y)\n",
    "X = merged_dataframe.loc[:,'Subjectivity':'Adj Close']\n",
    "y = merged_dataframe.loc[:,'Label']\n",
    "\n",
    "# Split the initial 70% of the data as training set , 15% of validation set and the remaining 15% data as the testing set\n",
    "train_size = int(len(X.index) * 0.7)\n",
    "validation_size = int(len(X.index) * 0.15)\n",
    "\n",
    "X_train_finetune, X_validation_finetune, X_test_finetune = X.loc[0:train_size, :], X.loc[train_size+1: train_size+validation_size, :],X.loc[train_size+validation_size+1: len(X.index), :]\n",
    "y_train_finetune, y_validation_finetune, y_test_finetune = y.loc[0:train_size], y.loc[train_size+1: train_size+validation_size], y.loc[train_size+validation_size+1: len(X.index)]\n",
    "\n",
    "print('Observations: %d' % (len(X.index)))\n",
    "print('X Training Observations: %d' % (len(X_train_finetune.index)))\n",
    "print('X Validation Observations: %d' % (len(X_validation_finetune.index)))\n",
    "print('X Testing Observations: %d' % (len(X_test_finetune.index)))\n",
    "print('y Training Observations: %d' % (len(y_train_finetune)))\n",
    "print('y Validation Observations: %d' % (len(y_validation_finetune)))\n",
    "print('y Testing Observations: %d' % (len(y_test_finetune)))\n",
    "\"\"\"\n",
    "pyplot.plot(y_train_finetune)\n",
    "pyplot.plot([None for i in y_train_finetune] + [x for x in y_validation_finetune])\n",
    "pyplot.plot([None for i in y_train_finetune] + [None for i in y_validation_finetune] + [x for x in y_test_finetune])\n",
    "pyplot.xlabel('time')\n",
    "pyplot.ylabel('y data')\n",
    "pyplot.title('y data train,validation,test Schematic diagram')\n",
    "pyplot.show()\n",
    "num_folds = 10\n",
    "scoring = 'accuracy'\n",
    "\"\"\""
   ]
  },
  {
   "cell_type": "markdown",
   "metadata": {},
   "source": [
    "## 放入機器學習 model，訓練並比較各模型在test set 上的accuracy"
   ]
  },
  {
   "cell_type": "code",
   "execution_count": 178,
   "metadata": {},
   "outputs": [],
   "source": [
    "# Append the models to the models list\n",
    "models = []\n",
    "models.append(('LR' , LogisticRegression()))\n",
    "models.append(('LDA' , LinearDiscriminantAnalysis()))\n",
    "models.append(('KNN' , KNeighborsClassifier()))\n",
    "models.append(('CART' , DecisionTreeClassifier()))\n",
    "models.append(('NB' , GaussianNB()))\n",
    "models.append(('SVM' , SVC()))\n",
    "models.append(('RF' , RandomForestClassifier(n_estimators=50)))\n",
    "models.append(('XGBoost', XGBClassifier()))"
   ]
  },
  {
   "cell_type": "code",
   "execution_count": 179,
   "metadata": {},
   "outputs": [
    {
     "name": "stdout",
     "output_type": "stream",
     "text": [
      "LR: 0.5302013422818792\n",
      "LDA: 0.9496644295302014\n",
      "KNN: 0.4597315436241611\n",
      "CART: 0.5486577181208053\n",
      "NB: 0.5318791946308725\n",
      "SVM: 0.5318791946308725\n",
      "RF: 0.5671140939597316\n",
      "XGBoost: 0.6040268456375839\n"
     ]
    }
   ],
   "source": [
    "# Evaluate each algorithm for accuracy\n",
    "results = []\n",
    "names = []\n",
    "\n",
    "\n",
    "for name, model in models:\n",
    "    clf = model\n",
    "    clf.fit(X_train, y_train)\n",
    "    y_pred = clf.predict(X_test)\n",
    "    accu_score = accuracy_score(y_test, y_pred)\n",
    "    print(name + \": \" + str(accu_score))\n",
    "    "
   ]
  },
  {
   "cell_type": "markdown",
   "metadata": {},
   "source": [
    "## 經過測試我們看到LDA與XGBoost表現良好\n",
    "## 故我們分別觀察兩者的confusion matrix, classification report"
   ]
  },
  {
   "cell_type": "markdown",
   "metadata": {},
   "source": [
    "## LDA表現：\n",
    "## 十分讚"
   ]
  },
  {
   "cell_type": "code",
   "execution_count": 152,
   "metadata": {},
   "outputs": [
    {
     "name": "stdout",
     "output_type": "stream",
     "text": [
      "accuracy score:\n",
      "0.9496644295302014\n",
      "｜true  p    false n｜\n",
      "｜false p    true  n｜\n",
      "confusion matrix: \n",
      "[[256  24]\n",
      " [  6 310]]\n",
      "classification report: \n",
      "              precision    recall  f1-score   support\n",
      "\n",
      "           0       0.98      0.91      0.94       280\n",
      "           1       0.93      0.98      0.95       316\n",
      "\n",
      "    accuracy                           0.95       596\n",
      "   macro avg       0.95      0.95      0.95       596\n",
      "weighted avg       0.95      0.95      0.95       596\n",
      "\n",
      "(596,)\n",
      "roc auc is :0.99500452079566\n",
      "AUC using cross val: [0.99441964 0.99074074 0.98204265 0.98755656 0.99666667 1.\n",
      " 1.         0.98951049 0.98928571 0.97569444]\n",
      "Mean AUC score is: 0.9905916908300487\n"
     ]
    },
    {
     "name": "stderr",
     "output_type": "stream",
     "text": [
      "/home/kevinshieh0225/venv/lib/python3.6/site-packages/sklearn/model_selection/_split.py:296: FutureWarning:\n",
      "\n",
      "Setting a random_state has no effect since shuffle is False. This will raise an error in 0.24. You should leave random_state to its default (None), or set shuffle=True.\n",
      "\n"
     ]
    },
    {
     "data": {
      "image/png": "[encoded data removed]",
      "text/plain": [
       "<Figure size 432x288 with 1 Axes>"
      ]
     },
     "metadata": {
      "needs_background": "light"
     },
     "output_type": "display_data"
    }
   ],
   "source": [
    "# prepare the model LDA\n",
    "scaler = StandardScaler().fit(X_train)\n",
    "rescaledX = scaler.transform(X_train)\n",
    "model_lda = LinearDiscriminantAnalysis()\n",
    "model_lda.fit(rescaledX, y_train)\n",
    "# estimate accuracy on validation dataset\n",
    "rescaledTestX = scaler.transform(X_test)\n",
    "predictions = model_lda.predict(rescaledTestX)\n",
    "print(\"accuracy score:\")\n",
    "print(accuracy_score(y_test, predictions))\n",
    "print(\"｜true  p    false n｜\")\n",
    "print(\"｜false p    true  n｜\")\n",
    "print(\"confusion matrix: \")\n",
    "print(confusion_matrix(y_test, predictions))\n",
    "print(\"classification report: \")\n",
    "print(classification_report(y_test, predictions))\n",
    "\n",
    "# Generating the ROC curve\n",
    "y_pred_proba = model_lda.predict_proba(rescaledTestX)[:,1]\n",
    "print(y_pred_proba.shape)\n",
    "fpr, tpr, thresholds = roc_curve(y_test, y_pred_proba)\n",
    "roc_auc = auc(fpr, tpr)\n",
    "\n",
    "# Plot ROC curve\n",
    "print(\"roc auc is :\" + str(roc_auc))\n",
    "pyplot.plot([0, 1], [0, 1], 'k--')\n",
    "pyplot.plot(fpr, tpr)\n",
    "pyplot.xlabel('False Positive Rate')\n",
    "pyplot.ylabel('True Positive Rate')\n",
    "pyplot.title('LDA ROC Curve')\n",
    "pyplot.show()\n",
    "\n",
    "# AUC score using cross validation\n",
    "kfold_val = KFold(n_splits=num_folds, random_state=42)\n",
    "auc_score = cross_val_score(model_lda, rescaledTestX, y_test, cv=kfold_val, scoring='roc_auc')\n",
    "\n",
    "\n",
    "    \n",
    "print(\"AUC using cross val: \" + str(auc_score))\n",
    "mean_auc = np.mean(auc_score)\n",
    "print(\"Mean AUC score is: \" + str(mean_auc))"
   ]
  },
  {
   "cell_type": "markdown",
   "metadata": {},
   "source": [
    "## XGB表現：\n",
    "## 沒那麼讚"
   ]
  },
  {
   "cell_type": "code",
   "execution_count": 154,
   "metadata": {},
   "outputs": [
    {
     "name": "stdout",
     "output_type": "stream",
     "text": [
      "accuracy score:\n",
      "0.6040268456375839\n",
      "｜true  p    false n｜\n",
      "｜false p    true  n｜\n",
      "confusion matrix: \n",
      "[[ 84 196]\n",
      " [ 40 276]]\n",
      "classification report: \n",
      "              precision    recall  f1-score   support\n",
      "\n",
      "           0       0.68      0.30      0.42       280\n",
      "           1       0.58      0.87      0.70       316\n",
      "\n",
      "    accuracy                           0.60       596\n",
      "   macro avg       0.63      0.59      0.56       596\n",
      "weighted avg       0.63      0.60      0.57       596\n",
      "\n",
      "roc auc is :0.6409697106690777\n"
     ]
    },
    {
     "name": "stderr",
     "output_type": "stream",
     "text": [
      "/home/kevinshieh0225/venv/lib/python3.6/site-packages/sklearn/model_selection/_split.py:296: FutureWarning:\n",
      "\n",
      "Setting a random_state has no effect since shuffle is False. This will raise an error in 0.24. You should leave random_state to its default (None), or set shuffle=True.\n",
      "\n"
     ]
    },
    {
     "name": "stdout",
     "output_type": "stream",
     "text": [
      "AUC using cross val: [0.88058036 0.77025463 0.93995511 0.91176471 0.97666667 0.96273637\n",
      " 0.97126437 0.95454545 0.96785714 0.9525463 ]\n",
      "Mean AUC score is: 0.9288171101206875\n"
     ]
    },
    {
     "data": {
      "image/png": "[encoded data removed]",
      "text/plain": [
       "<Figure size 432x288 with 1 Axes>"
      ]
     },
     "metadata": {
      "needs_background": "light"
     },
     "output_type": "display_data"
    }
   ],
   "source": [
    "model_xgb = XGBClassifier()\n",
    "model_xgb.fit(rescaledX, y_train)\n",
    "# estimate accuracy on test dataset\n",
    "rescaledTestX = scaler.transform(X_test)\n",
    "predictions = model_xgb.predict(rescaledTestX)\n",
    "print(\"accuracy score:\")\n",
    "print(accuracy_score(y_test, predictions))\n",
    "print(\"｜true  p    false n｜\")\n",
    "print(\"｜false p    true  n｜\")\n",
    "print(\"confusion matrix: \")\n",
    "print(confusion_matrix(y_test, predictions))\n",
    "print(\"classification report: \")\n",
    "print(classification_report(y_test, predictions))\n",
    "\n",
    "y_pred_proba = model_xgb.predict_proba(rescaledTestX)[:,1]\n",
    "fpr, tpr, thresholds = roc_curve(y_test, y_pred_proba)\n",
    "roc_auc = auc(fpr, tpr)\n",
    "\n",
    "# Plot ROC curve\n",
    "print(\"roc auc is :\" + str(roc_auc))\n",
    "pyplot.plot([0, 1], [0, 1], 'k--')\n",
    "pyplot.plot(fpr, tpr)\n",
    "pyplot.xlabel('False Positive Rate')\n",
    "pyplot.ylabel('True Positive Rate')\n",
    "pyplot.title('XGB ROC Curve')\n",
    "pyplot.show()\n",
    "\n",
    "# AUC score using cross validation\n",
    "kfold_val = KFold(n_splits=num_folds, random_state=42)\n",
    "auc_score = cross_val_score(model_xgb, rescaledTestX, y_test, cv=kfold_val, scoring='roc_auc')\n",
    "print(\"AUC using cross val: \" + str(auc_score))\n",
    "mean_auc = np.mean(auc_score)\n",
    "print(\"Mean AUC score is: \" + str(mean_auc))"
   ]
  },
  {
   "cell_type": "markdown",
   "metadata": {},
   "source": [
    "# 2.1.2 Fine Tuning XGBoost\n",
    "\n",
    "#### As of now the model that seems to be performing the second is the XGBoost model.\n",
    "\n",
    "#### Lets see if we can fine tune it further to increase the accuracy of the model.\n",
    "\n",
    "#### The main parameters which can be used for fine tuning the XGBoost model are the n_estimators and the max_depth parameters.\n",
    "\n",
    "#### n_estimators: XGBoost is an additive model, multiple models are created on different samples of data and the model learns after training of different samples. How many samples are the optimum best for the XGBoost to train from is usually unknown and the best way to find out is to check by training on different set of estimators.\n",
    "\n",
    "#### Lets take a list of n_estimators = [150, 200, 250, 450, 500, 550, 1000]\n",
    "\n",
    "#### max_depth: XGBoost learns in the form of a tree model and the number of depths for that tree needs to be set. This parameter is also not known. So lets try on multiple set of depths.\n",
    "#### max_depth = [1, 2, 3, 4, 5, 6, 7, 8, 9, 10, 11, 12]\n",
    "\n",
    "#### Below , we are training the XGBoost classifier on different combinations of max depth and estimators. This output will print out the  best parameters as well as the highest accuracy achieved using those parameters.\n",
    "\n",
    "#### Below we can see that the accuracy has improved by around ~5%, i. e from 58% to 62% at 550 estimators and max depth of 3."
   ]
  },
  {
   "cell_type": "code",
   "execution_count": 34,
   "metadata": {
    "scrolled": false
   },
   "outputs": [
    {
     "name": "stdout",
     "output_type": "stream",
     "text": [
      "[1, 2, 3, 4, 5, 6, 7, 8, 9, 10, 11, 12]\n",
      "Score is 0.5738255033557047 at depth of 1 and estimator 150\n",
      "Score is 0.6073825503355704 at depth of 2 and estimator 150\n",
      "Score is 0.6040268456375839 at depth of 3 and estimator 150\n",
      "Score is 0.6208053691275168 at depth of 4 and estimator 150\n",
      "Score is 0.6208053691275168 at depth of 5 and estimator 150\n",
      "Score is 0.6241610738255033 at depth of 6 and estimator 150\n",
      "Score is 0.5838926174496645 at depth of 7 and estimator 150\n",
      "Score is 0.6073825503355704 at depth of 8 and estimator 150\n",
      "Score is 0.5805369127516778 at depth of 9 and estimator 150\n",
      "Score is 0.6040268456375839 at depth of 10 and estimator 150\n",
      "Score is 0.5503355704697986 at depth of 11 and estimator 150\n",
      "Score is 0.5973154362416108 at depth of 12 and estimator 150\n",
      "Score is 0.5738255033557047 at depth of 1 and estimator 200\n",
      "Score is 0.6073825503355704 at depth of 2 and estimator 200\n",
      "Score is 0.6140939597315436 at depth of 3 and estimator 200\n",
      "Score is 0.6241610738255033 at depth of 4 and estimator 200\n",
      "Score is 0.6140939597315436 at depth of 5 and estimator 200\n",
      "Score is 0.6308724832214765 at depth of 6 and estimator 200\n",
      "Score is 0.5805369127516778 at depth of 7 and estimator 200\n",
      "Score is 0.5939597315436241 at depth of 8 and estimator 200\n",
      "Score is 0.5671140939597316 at depth of 9 and estimator 200\n",
      "Score is 0.6040268456375839 at depth of 10 and estimator 200\n",
      "Score is 0.5570469798657718 at depth of 11 and estimator 200\n",
      "Score is 0.5906040268456376 at depth of 12 and estimator 200\n",
      "Score is 0.5838926174496645 at depth of 1 and estimator 250\n",
      "Score is 0.6073825503355704 at depth of 2 and estimator 250\n",
      "Score is 0.610738255033557 at depth of 3 and estimator 250\n",
      "Score is 0.6174496644295302 at depth of 4 and estimator 250\n",
      "Score is 0.62751677852349 at depth of 5 and estimator 250\n",
      "Score is 0.62751677852349 at depth of 6 and estimator 250\n",
      "Score is 0.5771812080536913 at depth of 7 and estimator 250\n",
      "Score is 0.5939597315436241 at depth of 8 and estimator 250\n",
      "Score is 0.5637583892617449 at depth of 9 and estimator 250\n",
      "Score is 0.6073825503355704 at depth of 10 and estimator 250\n",
      "Score is 0.5503355704697986 at depth of 11 and estimator 250\n",
      "Score is 0.587248322147651 at depth of 12 and estimator 250\n",
      "Score is 0.5771812080536913 at depth of 1 and estimator 450\n",
      "Score is 0.6073825503355704 at depth of 2 and estimator 450\n",
      "Score is 0.6140939597315436 at depth of 3 and estimator 450\n",
      "Score is 0.6040268456375839 at depth of 4 and estimator 450\n",
      "Score is 0.6140939597315436 at depth of 5 and estimator 450\n",
      "Score is 0.610738255033557 at depth of 6 and estimator 450\n",
      "Score is 0.5805369127516778 at depth of 7 and estimator 450\n",
      "Score is 0.5939597315436241 at depth of 8 and estimator 450\n",
      "Score is 0.5637583892617449 at depth of 9 and estimator 450\n",
      "Score is 0.6040268456375839 at depth of 10 and estimator 450\n",
      "Score is 0.5536912751677853 at depth of 11 and estimator 450\n",
      "Score is 0.5771812080536913 at depth of 12 and estimator 450\n",
      "Score is 0.5771812080536913 at depth of 1 and estimator 500\n",
      "Score is 0.610738255033557 at depth of 2 and estimator 500\n",
      "Score is 0.6174496644295302 at depth of 3 and estimator 500\n",
      "Score is 0.6040268456375839 at depth of 4 and estimator 500\n",
      "Score is 0.6140939597315436 at depth of 5 and estimator 500\n",
      "Score is 0.5906040268456376 at depth of 6 and estimator 500\n",
      "Score is 0.5771812080536913 at depth of 7 and estimator 500\n",
      "Score is 0.5973154362416108 at depth of 8 and estimator 500\n",
      "Score is 0.5570469798657718 at depth of 9 and estimator 500\n",
      "Score is 0.6006711409395973 at depth of 10 and estimator 500\n",
      "Score is 0.5536912751677853 at depth of 11 and estimator 500\n",
      "Score is 0.5738255033557047 at depth of 12 and estimator 500\n",
      "Score is 0.5771812080536913 at depth of 1 and estimator 550\n",
      "Score is 0.6140939597315436 at depth of 2 and estimator 550\n",
      "Score is 0.6174496644295302 at depth of 3 and estimator 550\n",
      "Score is 0.6073825503355704 at depth of 4 and estimator 550\n",
      "Score is 0.6073825503355704 at depth of 5 and estimator 550\n",
      "Score is 0.5973154362416108 at depth of 6 and estimator 550\n",
      "Score is 0.5838926174496645 at depth of 7 and estimator 550\n",
      "Score is 0.5973154362416108 at depth of 8 and estimator 550\n",
      "Score is 0.5503355704697986 at depth of 9 and estimator 550\n",
      "Score is 0.6006711409395973 at depth of 10 and estimator 550\n",
      "Score is 0.5536912751677853 at depth of 11 and estimator 550\n",
      "Score is 0.5738255033557047 at depth of 12 and estimator 550\n",
      "Score is 0.5838926174496645 at depth of 1 and estimator 1000\n",
      "Score is 0.6174496644295302 at depth of 2 and estimator 1000\n",
      "Score is 0.610738255033557 at depth of 3 and estimator 1000\n",
      "Score is 0.6073825503355704 at depth of 4 and estimator 1000\n",
      "Score is 0.6073825503355704 at depth of 5 and estimator 1000\n",
      "Score is 0.5671140939597316 at depth of 6 and estimator 1000\n",
      "Score is 0.5637583892617449 at depth of 7 and estimator 1000\n",
      "Score is 0.5973154362416108 at depth of 8 and estimator 1000\n",
      "Score is 0.5503355704697986 at depth of 9 and estimator 1000\n",
      "Score is 0.5805369127516778 at depth of 10 and estimator 1000\n",
      "Score is 0.5570469798657718 at depth of 11 and estimator 1000\n",
      "Score is 0.5738255033557047 at depth of 12 and estimator 1000\n",
      "Best score is 0.6308724832214765 at depth of 6 and estimator of 200\n",
      "the best estimator score in test data is0.587248322147651\n"
     ]
    }
   ],
   "source": [
    "# XGBoost on Stock Price dataset, Tune n_estimators and max_depth\n",
    "from sklearn.model_selection import GridSearchCV\n",
    "from sklearn.model_selection import StratifiedKFold\n",
    "from sklearn.preprocessing import LabelEncoder\n",
    "import matplotlib\n",
    "\n",
    "matplotlib.use('Agg')\n",
    "model = XGBClassifier()\n",
    "n_estimators = [150, 200, 250, 450, 500, 550, 1000]\n",
    "max_depth = [1, 2, 3, 4, 5, 6, 7, 8, 9, 10, 11, 12]\n",
    "print(max_depth)\n",
    "best_depth = 0\n",
    "best_estimator = 0\n",
    "max_score = 0\n",
    "for n in n_estimators:\n",
    "    for md in max_depth:\n",
    "        model = XGBClassifier(n_estimators=n, max_depth=md)\n",
    "        model.fit(X_train_finetune, y_train_finetune)\n",
    "        y_pred = model.predict(X_validation_finetune)\n",
    "        score = accuracy_score(y_validation_finetune, y_pred)\n",
    "        if score > max_score:\n",
    "            max_score = score\n",
    "            best_depth = md\n",
    "            best_estimator = n\n",
    "        print(\"Score is \" + str(score) + \" at depth of \" + str(md) + \" and estimator \" + str(n))\n",
    "print(\"Best score is \" + str(max_score) + \" at depth of \" + str(best_depth) + \" and estimator of \" + str(best_estimator))\n",
    "\n",
    "model = XGBClassifier(n_estimators=best_estimator, max_depth=best_depth)\n",
    "model.fit(X_train_finetune, y_train_finetune)\n",
    "y_pred = model.predict(X_test_finetune)\n",
    "score = accuracy_score(y_test_finetune, y_pred)\n",
    "    \n",
    "print(\"the best estimator score in test data is\"+str(score))\n"
   ]
  },
  {
   "cell_type": "markdown",
   "metadata": {},
   "source": [
    "# 2.1.3 Feature Importances:\n",
    "\n",
    "## 我們找出XGB的\"重要特徵\"，只使用重要特徵來做預測，看看結果如何："
   ]
  },
  {
   "cell_type": "code",
   "execution_count": 156,
   "metadata": {},
   "outputs": [
    {
     "data": {
      "application/vnd.plotly.v1+json": {
       "config": {
        "linkText": "Export to plot.ly",
        "plotlyServerURL": "https://plot.ly",
        "showLink": false
       },
       "data": [
        {
         "marker": {
          "color": [
           0,
           0,
           0,
           0.08461600542068481,
           0.09056545794010162,
           0.09475679695606232,
           0.09656795114278793,
           0.10557924211025238,
           0.12934912741184235,
           0.19650229811668396,
           0.20206303894519806
          ],
          "colorscale": [
           [
            0,
            "#440154"
           ],
           [
            0.1111111111111111,
            "#482878"
           ],
           [
            0.2222222222222222,
            "#3e4989"
           ],
           [
            0.3333333333333333,
            "#31688e"
           ],
           [
            0.4444444444444444,
            "#26828e"
           ],
           [
            0.5555555555555556,
            "#1f9e89"
           ],
           [
            0.6666666666666666,
            "#35b779"
           ],
           [
            0.7777777777777778,
            "#6ece58"
           ],
           [
            0.8888888888888888,
            "#b5de2b"
           ],
           [
            1,
            "#fde725"
           ]
          ],
          "reversescale": true
         },
         "name": "Feature importance for XGBoost",
         "orientation": "h",
         "type": "bar",
         "x": [
          0,
          0,
          0,
          0.08461600542068481,
          0.09056545794010162,
          0.09475679695606232,
          0.09656795114278793,
          0.10557924211025238,
          0.12934912741184235,
          0.19650229811668396,
          0.20206303894519806
         ],
         "y": [
          "Negative",
          "Subjectivity",
          "Volume",
          "Date",
          "Open",
          "Objectivity",
          "Close",
          "Positive",
          "High",
          "Low",
          "Neutral"
         ]
        }
       ],
       "layout": {
        "height": 1000,
        "template": {
         "data": {
          "bar": [
           {
            "error_x": {
             "color": "#2a3f5f"
            },
            "error_y": {
             "color": "#2a3f5f"
            },
            "marker": {
             "line": {
              "color": "#E5ECF6",
              "width": 0.5
             }
            },
            "type": "bar"
           }
          ],
          "barpolar": [
           {
            "marker": {
             "line": {
              "color": "#E5ECF6",
              "width": 0.5
             }
            },
            "type": "barpolar"
           }
          ],
          "carpet": [
           {
            "aaxis": {
             "endlinecolor": "#2a3f5f",
             "gridcolor": "white",
             "linecolor": "white",
             "minorgridcolor": "white",
             "startlinecolor": "#2a3f5f"
            },
            "baxis": {
             "endlinecolor": "#2a3f5f",
             "gridcolor": "white",
             "linecolor": "white",
             "minorgridcolor": "white",
             "startlinecolor": "#2a3f5f"
            },
            "type": "carpet"
           }
          ],
          "choropleth": [
           {
            "colorbar": {
             "outlinewidth": 0,
             "ticks": ""
            },
            "type": "choropleth"
           }
          ],
          "contour": [
           {
            "colorbar": {
             "outlinewidth": 0,
             "ticks": ""
            },
            "colorscale": [
             [
              0,
              "#0d0887"
             ],
             [
              0.1111111111111111,
              "#46039f"
             ],
             [
              0.2222222222222222,
              "#7201a8"
             ],
             [
              0.3333333333333333,
              "#9c179e"
             ],
             [
              0.4444444444444444,
              "#bd3786"
             ],
             [
              0.5555555555555556,
              "#d8576b"
             ],
             [
              0.6666666666666666,
              "#ed7953"
             ],
             [
              0.7777777777777778,
              "#fb9f3a"
             ],
             [
              0.8888888888888888,
              "#fdca26"
             ],
             [
              1,
              "#f0f921"
             ]
            ],
            "type": "contour"
           }
          ],
          "contourcarpet": [
           {
            "colorbar": {
             "outlinewidth": 0,
             "ticks": ""
            },
            "type": "contourcarpet"
           }
          ],
          "heatmap": [
           {
            "colorbar": {
             "outlinewidth": 0,
             "ticks": ""
            },
            "colorscale": [
             [
              0,
              "#0d0887"
             ],
             [
              0.1111111111111111,
              "#46039f"
             ],
             [
              0.2222222222222222,
              "#7201a8"
             ],
             [
              0.3333333333333333,
              "#9c179e"
             ],
             [
              0.4444444444444444,
              "#bd3786"
             ],
             [
              0.5555555555555556,
              "#d8576b"
             ],
             [
              0.6666666666666666,
              "#ed7953"
             ],
             [
              0.7777777777777778,
              "#fb9f3a"
             ],
             [
              0.8888888888888888,
              "#fdca26"
             ],
             [
              1,
              "#f0f921"
             ]
            ],
            "type": "heatmap"
           }
          ],
          "heatmapgl": [
           {
            "colorbar": {
             "outlinewidth": 0,
             "ticks": ""
            },
            "colorscale": [
             [
              0,
              "#0d0887"
             ],
             [
              0.1111111111111111,
              "#46039f"
             ],
             [
              0.2222222222222222,
              "#7201a8"
             ],
             [
              0.3333333333333333,
              "#9c179e"
             ],
             [
              0.4444444444444444,
              "#bd3786"
             ],
             [
              0.5555555555555556,
              "#d8576b"
             ],
             [
              0.6666666666666666,
              "#ed7953"
             ],
             [
              0.7777777777777778,
              "#fb9f3a"
             ],
             [
              0.8888888888888888,
              "#fdca26"
             ],
             [
              1,
              "#f0f921"
             ]
            ],
            "type": "heatmapgl"
           }
          ],
          "histogram": [
           {
            "marker": {
             "colorbar": {
              "outlinewidth": 0,
              "ticks": ""
             }
            },
            "type": "histogram"
           }
          ],
          "histogram2d": [
           {
            "colorbar": {
             "outlinewidth": 0,
             "ticks": ""
            },
            "colorscale": [
             [
              0,
              "#0d0887"
             ],
             [
              0.1111111111111111,
              "#46039f"
             ],
             [
              0.2222222222222222,
              "#7201a8"
             ],
             [
              0.3333333333333333,
              "#9c179e"
             ],
             [
              0.4444444444444444,
              "#bd3786"
             ],
             [
              0.5555555555555556,
              "#d8576b"
             ],
             [
              0.6666666666666666,
              "#ed7953"
             ],
             [
              0.7777777777777778,
              "#fb9f3a"
             ],
             [
              0.8888888888888888,
              "#fdca26"
             ],
             [
              1,
              "#f0f921"
             ]
            ],
            "type": "histogram2d"
           }
          ],
          "histogram2dcontour": [
           {
            "colorbar": {
             "outlinewidth": 0,
             "ticks": ""
            },
            "colorscale": [
             [
              0,
              "#0d0887"
             ],
             [
              0.1111111111111111,
              "#46039f"
             ],
             [
              0.2222222222222222,
              "#7201a8"
             ],
             [
              0.3333333333333333,
              "#9c179e"
             ],
             [
              0.4444444444444444,
              "#bd3786"
             ],
             [
              0.5555555555555556,
              "#d8576b"
             ],
             [
              0.6666666666666666,
              "#ed7953"
             ],
             [
              0.7777777777777778,
              "#fb9f3a"
             ],
             [
              0.8888888888888888,
              "#fdca26"
             ],
             [
              1,
              "#f0f921"
             ]
            ],
            "type": "histogram2dcontour"
           }
          ],
          "mesh3d": [
           {
            "colorbar": {
             "outlinewidth": 0,
             "ticks": ""
            },
            "type": "mesh3d"
           }
          ],
          "parcoords": [
           {
            "line": {
             "colorbar": {
              "outlinewidth": 0,
              "ticks": ""
             }
            },
            "type": "parcoords"
           }
          ],
          "pie": [
           {
            "automargin": true,
            "type": "pie"
           }
          ],
          "scatter": [
           {
            "marker": {
             "colorbar": {
              "outlinewidth": 0,
              "ticks": ""
             }
            },
            "type": "scatter"
           }
          ],
          "scatter3d": [
           {
            "line": {
             "colorbar": {
              "outlinewidth": 0,
              "ticks": ""
             }
            },
            "marker": {
             "colorbar": {
              "outlinewidth": 0,
              "ticks": ""
             }
            },
            "type": "scatter3d"
           }
          ],
          "scattercarpet": [
           {
            "marker": {
             "colorbar": {
              "outlinewidth": 0,
              "ticks": ""
             }
            },
            "type": "scattercarpet"
           }
          ],
          "scattergeo": [
           {
            "marker": {
             "colorbar": {
              "outlinewidth": 0,
              "ticks": ""
             }
            },
            "type": "scattergeo"
           }
          ],
          "scattergl": [
           {
            "marker": {
             "colorbar": {
              "outlinewidth": 0,
              "ticks": ""
             }
            },
            "type": "scattergl"
           }
          ],
          "scattermapbox": [
           {
            "marker": {
             "colorbar": {
              "outlinewidth": 0,
              "ticks": ""
             }
            },
            "type": "scattermapbox"
           }
          ],
          "scatterpolar": [
           {
            "marker": {
             "colorbar": {
              "outlinewidth": 0,
              "ticks": ""
             }
            },
            "type": "scatterpolar"
           }
          ],
          "scatterpolargl": [
           {
            "marker": {
             "colorbar": {
              "outlinewidth": 0,
              "ticks": ""
             }
            },
            "type": "scatterpolargl"
           }
          ],
          "scatterternary": [
           {
            "marker": {
             "colorbar": {
              "outlinewidth": 0,
              "ticks": ""
             }
            },
            "type": "scatterternary"
           }
          ],
          "surface": [
           {
            "colorbar": {
             "outlinewidth": 0,
             "ticks": ""
            },
            "colorscale": [
             [
              0,
              "#0d0887"
             ],
             [
              0.1111111111111111,
              "#46039f"
             ],
             [
              0.2222222222222222,
              "#7201a8"
             ],
             [
              0.3333333333333333,
              "#9c179e"
             ],
             [
              0.4444444444444444,
              "#bd3786"
             ],
             [
              0.5555555555555556,
              "#d8576b"
             ],
             [
              0.6666666666666666,
              "#ed7953"
             ],
             [
              0.7777777777777778,
              "#fb9f3a"
             ],
             [
              0.8888888888888888,
              "#fdca26"
             ],
             [
              1,
              "#f0f921"
             ]
            ],
            "type": "surface"
           }
          ],
          "table": [
           {
            "cells": {
             "fill": {
              "color": "#EBF0F8"
             },
             "line": {
              "color": "white"
             }
            },
            "header": {
             "fill": {
              "color": "#C8D4E3"
             },
             "line": {
              "color": "white"
             }
            },
            "type": "table"
           }
          ]
         },
         "layout": {
          "annotationdefaults": {
           "arrowcolor": "#2a3f5f",
           "arrowhead": 0,
           "arrowwidth": 1
          },
          "coloraxis": {
           "colorbar": {
            "outlinewidth": 0,
            "ticks": ""
           }
          },
          "colorscale": {
           "diverging": [
            [
             0,
             "#8e0152"
            ],
            [
             0.1,
             "#c51b7d"
            ],
            [
             0.2,
             "#de77ae"
            ],
            [
             0.3,
             "#f1b6da"
            ],
            [
             0.4,
             "#fde0ef"
            ],
            [
             0.5,
             "#f7f7f7"
            ],
            [
             0.6,
             "#e6f5d0"
            ],
            [
             0.7,
             "#b8e186"
            ],
            [
             0.8,
             "#7fbc41"
            ],
            [
             0.9,
             "#4d9221"
            ],
            [
             1,
             "#276419"
            ]
           ],
           "sequential": [
            [
             0,
             "#0d0887"
            ],
            [
             0.1111111111111111,
             "#46039f"
            ],
            [
             0.2222222222222222,
             "#7201a8"
            ],
            [
             0.3333333333333333,
             "#9c179e"
            ],
            [
             0.4444444444444444,
             "#bd3786"
            ],
            [
             0.5555555555555556,
             "#d8576b"
            ],
            [
             0.6666666666666666,
             "#ed7953"
            ],
            [
             0.7777777777777778,
             "#fb9f3a"
            ],
            [
             0.8888888888888888,
             "#fdca26"
            ],
            [
             1,
             "#f0f921"
            ]
           ],
           "sequentialminus": [
            [
             0,
             "#0d0887"
            ],
            [
             0.1111111111111111,
             "#46039f"
            ],
            [
             0.2222222222222222,
             "#7201a8"
            ],
            [
             0.3333333333333333,
             "#9c179e"
            ],
            [
             0.4444444444444444,
             "#bd3786"
            ],
            [
             0.5555555555555556,
             "#d8576b"
            ],
            [
             0.6666666666666666,
             "#ed7953"
            ],
            [
             0.7777777777777778,
             "#fb9f3a"
            ],
            [
             0.8888888888888888,
             "#fdca26"
            ],
            [
             1,
             "#f0f921"
            ]
           ]
          },
          "colorway": [
           "#636efa",
           "#EF553B",
           "#00cc96",
           "#ab63fa",
           "#FFA15A",
           "#19d3f3",
           "#FF6692",
           "#B6E880",
           "#FF97FF",
           "#FECB52"
          ],
          "font": {
           "color": "#2a3f5f"
          },
          "geo": {
           "bgcolor": "white",
           "lakecolor": "white",
           "landcolor": "#E5ECF6",
           "showlakes": true,
           "showland": true,
           "subunitcolor": "white"
          },
          "hoverlabel": {
           "align": "left"
          },
          "hovermode": "closest",
          "mapbox": {
           "style": "light"
          },
          "paper_bgcolor": "white",
          "plot_bgcolor": "#E5ECF6",
          "polar": {
           "angularaxis": {
            "gridcolor": "white",
            "linecolor": "white",
            "ticks": ""
           },
           "bgcolor": "#E5ECF6",
           "radialaxis": {
            "gridcolor": "white",
            "linecolor": "white",
            "ticks": ""
           }
          },
          "scene": {
           "xaxis": {
            "backgroundcolor": "#E5ECF6",
            "gridcolor": "white",
            "gridwidth": 2,
            "linecolor": "white",
            "showbackground": true,
            "ticks": "",
            "zerolinecolor": "white"
           },
           "yaxis": {
            "backgroundcolor": "#E5ECF6",
            "gridcolor": "white",
            "gridwidth": 2,
            "linecolor": "white",
            "showbackground": true,
            "ticks": "",
            "zerolinecolor": "white"
           },
           "zaxis": {
            "backgroundcolor": "#E5ECF6",
            "gridcolor": "white",
            "gridwidth": 2,
            "linecolor": "white",
            "showbackground": true,
            "ticks": "",
            "zerolinecolor": "white"
           }
          },
          "shapedefaults": {
           "line": {
            "color": "#2a3f5f"
           }
          },
          "ternary": {
           "aaxis": {
            "gridcolor": "white",
            "linecolor": "white",
            "ticks": ""
           },
           "baxis": {
            "gridcolor": "white",
            "linecolor": "white",
            "ticks": ""
           },
           "bgcolor": "#E5ECF6",
           "caxis": {
            "gridcolor": "white",
            "linecolor": "white",
            "ticks": ""
           }
          },
          "title": {
           "x": 0.05
          },
          "xaxis": {
           "automargin": true,
           "gridcolor": "white",
           "linecolor": "white",
           "ticks": "",
           "title": {
            "standoff": 15
           },
           "zerolinecolor": "white",
           "zerolinewidth": 2
          },
          "yaxis": {
           "automargin": true,
           "gridcolor": "white",
           "linecolor": "white",
           "ticks": "",
           "title": {
            "standoff": 15
           },
           "zerolinecolor": "white",
           "zerolinewidth": 2
          }
         }
        },
        "title": {
         "text": "Barplot of Feature importances for XGBoost"
        },
        "width": 1000,
        "yaxis": {
         "showgrid": false,
         "showline": false,
         "showticklabels": true
        }
       }
      },
      "text/html": [
       "<div>\n",
       "        \n",
       "        \n",
       "            <div id=\"16cfcae0-6e49-49cb-a224-4e94ec1b95f3\" class=\"plotly-graph-div\" style=\"height:1000px; width:1000px;\"></div>\n",
       "            <script type=\"text/javascript\">\n",
       "                require([\"plotly\"], function(Plotly) {\n",
       "                    window.PLOTLYENV=window.PLOTLYENV || {};\n",
       "                    \n",
       "                if (document.getElementById(\"16cfcae0-6e49-49cb-a224-4e94ec1b95f3\")) {\n",
       "                    Plotly.newPlot(\n",
       "                        '16cfcae0-6e49-49cb-a224-4e94ec1b95f3',\n",
       "                        [{\"marker\": {\"color\": [0.0, 0.0, 0.0, 0.08461600542068481, 0.09056545794010162, 0.09475679695606232, 0.09656795114278793, 0.10557924211025238, 0.12934912741184235, 0.19650229811668396, 0.20206303894519806], \"colorscale\": [[0.0, \"#440154\"], [0.1111111111111111, \"#482878\"], [0.2222222222222222, \"#3e4989\"], [0.3333333333333333, \"#31688e\"], [0.4444444444444444, \"#26828e\"], [0.5555555555555556, \"#1f9e89\"], [0.6666666666666666, \"#35b779\"], [0.7777777777777778, \"#6ece58\"], [0.8888888888888888, \"#b5de2b\"], [1.0, \"#fde725\"]], \"reversescale\": true}, \"name\": \"Feature importance for XGBoost\", \"orientation\": \"h\", \"type\": \"bar\", \"x\": [0.0, 0.0, 0.0, 0.08461600542068481, 0.09056545794010162, 0.09475679695606232, 0.09656795114278793, 0.10557924211025238, 0.12934912741184235, 0.19650229811668396, 0.20206303894519806], \"y\": [\"Negative\", \"Subjectivity\", \"Volume\", \"Date\", \"Open\", \"Objectivity\", \"Close\", \"Positive\", \"High\", \"Low\", \"Neutral\"]}],\n",
       "                        {\"height\": 1000, \"template\": {\"data\": {\"bar\": [{\"error_x\": {\"color\": \"#2a3f5f\"}, \"error_y\": {\"color\": \"#2a3f5f\"}, \"marker\": {\"line\": {\"color\": \"#E5ECF6\", \"width\": 0.5}}, \"type\": \"bar\"}], \"barpolar\": [{\"marker\": {\"line\": {\"color\": \"#E5ECF6\", \"width\": 0.5}}, \"type\": \"barpolar\"}], \"carpet\": [{\"aaxis\": {\"endlinecolor\": \"#2a3f5f\", \"gridcolor\": \"white\", \"linecolor\": \"white\", \"minorgridcolor\": \"white\", \"startlinecolor\": \"#2a3f5f\"}, \"baxis\": {\"endlinecolor\": \"#2a3f5f\", \"gridcolor\": \"white\", \"linecolor\": \"white\", \"minorgridcolor\": \"white\", \"startlinecolor\": \"#2a3f5f\"}, \"type\": \"carpet\"}], \"choropleth\": [{\"colorbar\": {\"outlinewidth\": 0, \"ticks\": \"\"}, \"type\": \"choropleth\"}], \"contour\": [{\"colorbar\": {\"outlinewidth\": 0, \"ticks\": \"\"}, \"colorscale\": [[0.0, \"#0d0887\"], [0.1111111111111111, \"#46039f\"], [0.2222222222222222, \"#7201a8\"], [0.3333333333333333, \"#9c179e\"], [0.4444444444444444, \"#bd3786\"], [0.5555555555555556, \"#d8576b\"], [0.6666666666666666, \"#ed7953\"], [0.7777777777777778, \"#fb9f3a\"], [0.8888888888888888, \"#fdca26\"], [1.0, \"#f0f921\"]], \"type\": \"contour\"}], \"contourcarpet\": [{\"colorbar\": {\"outlinewidth\": 0, \"ticks\": \"\"}, \"type\": \"contourcarpet\"}], \"heatmap\": [{\"colorbar\": {\"outlinewidth\": 0, \"ticks\": \"\"}, \"colorscale\": [[0.0, \"#0d0887\"], [0.1111111111111111, \"#46039f\"], [0.2222222222222222, \"#7201a8\"], [0.3333333333333333, \"#9c179e\"], [0.4444444444444444, \"#bd3786\"], [0.5555555555555556, \"#d8576b\"], [0.6666666666666666, \"#ed7953\"], [0.7777777777777778, \"#fb9f3a\"], [0.8888888888888888, \"#fdca26\"], [1.0, \"#f0f921\"]], \"type\": \"heatmap\"}], \"heatmapgl\": [{\"colorbar\": {\"outlinewidth\": 0, \"ticks\": \"\"}, \"colorscale\": [[0.0, \"#0d0887\"], [0.1111111111111111, \"#46039f\"], [0.2222222222222222, \"#7201a8\"], [0.3333333333333333, \"#9c179e\"], [0.4444444444444444, \"#bd3786\"], [0.5555555555555556, \"#d8576b\"], [0.6666666666666666, \"#ed7953\"], [0.7777777777777778, \"#fb9f3a\"], [0.8888888888888888, \"#fdca26\"], [1.0, \"#f0f921\"]], \"type\": \"heatmapgl\"}], \"histogram\": [{\"marker\": {\"colorbar\": {\"outlinewidth\": 0, \"ticks\": \"\"}}, \"type\": \"histogram\"}], \"histogram2d\": [{\"colorbar\": {\"outlinewidth\": 0, \"ticks\": \"\"}, \"colorscale\": [[0.0, \"#0d0887\"], [0.1111111111111111, \"#46039f\"], [0.2222222222222222, \"#7201a8\"], [0.3333333333333333, \"#9c179e\"], [0.4444444444444444, \"#bd3786\"], [0.5555555555555556, \"#d8576b\"], [0.6666666666666666, \"#ed7953\"], [0.7777777777777778, \"#fb9f3a\"], [0.8888888888888888, \"#fdca26\"], [1.0, \"#f0f921\"]], \"type\": \"histogram2d\"}], \"histogram2dcontour\": [{\"colorbar\": {\"outlinewidth\": 0, \"ticks\": \"\"}, \"colorscale\": [[0.0, \"#0d0887\"], [0.1111111111111111, \"#46039f\"], [0.2222222222222222, \"#7201a8\"], [0.3333333333333333, \"#9c179e\"], [0.4444444444444444, \"#bd3786\"], [0.5555555555555556, \"#d8576b\"], [0.6666666666666666, \"#ed7953\"], [0.7777777777777778, \"#fb9f3a\"], [0.8888888888888888, \"#fdca26\"], [1.0, \"#f0f921\"]], \"type\": \"histogram2dcontour\"}], \"mesh3d\": [{\"colorbar\": {\"outlinewidth\": 0, \"ticks\": \"\"}, \"type\": \"mesh3d\"}], \"parcoords\": [{\"line\": {\"colorbar\": {\"outlinewidth\": 0, \"ticks\": \"\"}}, \"type\": \"parcoords\"}], \"pie\": [{\"automargin\": true, \"type\": \"pie\"}], \"scatter\": [{\"marker\": {\"colorbar\": {\"outlinewidth\": 0, \"ticks\": \"\"}}, \"type\": \"scatter\"}], \"scatter3d\": [{\"line\": {\"colorbar\": {\"outlinewidth\": 0, \"ticks\": \"\"}}, \"marker\": {\"colorbar\": {\"outlinewidth\": 0, \"ticks\": \"\"}}, \"type\": \"scatter3d\"}], \"scattercarpet\": [{\"marker\": {\"colorbar\": {\"outlinewidth\": 0, \"ticks\": \"\"}}, \"type\": \"scattercarpet\"}], \"scattergeo\": [{\"marker\": {\"colorbar\": {\"outlinewidth\": 0, \"ticks\": \"\"}}, \"type\": \"scattergeo\"}], \"scattergl\": [{\"marker\": {\"colorbar\": {\"outlinewidth\": 0, \"ticks\": \"\"}}, \"type\": \"scattergl\"}], \"scattermapbox\": [{\"marker\": {\"colorbar\": {\"outlinewidth\": 0, \"ticks\": \"\"}}, \"type\": \"scattermapbox\"}], \"scatterpolar\": [{\"marker\": {\"colorbar\": {\"outlinewidth\": 0, \"ticks\": \"\"}}, \"type\": \"scatterpolar\"}], \"scatterpolargl\": [{\"marker\": {\"colorbar\": {\"outlinewidth\": 0, \"ticks\": \"\"}}, \"type\": \"scatterpolargl\"}], \"scatterternary\": [{\"marker\": {\"colorbar\": {\"outlinewidth\": 0, \"ticks\": \"\"}}, \"type\": \"scatterternary\"}], \"surface\": [{\"colorbar\": {\"outlinewidth\": 0, \"ticks\": \"\"}, \"colorscale\": [[0.0, \"#0d0887\"], [0.1111111111111111, \"#46039f\"], [0.2222222222222222, \"#7201a8\"], [0.3333333333333333, \"#9c179e\"], [0.4444444444444444, \"#bd3786\"], [0.5555555555555556, \"#d8576b\"], [0.6666666666666666, \"#ed7953\"], [0.7777777777777778, \"#fb9f3a\"], [0.8888888888888888, \"#fdca26\"], [1.0, \"#f0f921\"]], \"type\": \"surface\"}], \"table\": [{\"cells\": {\"fill\": {\"color\": \"#EBF0F8\"}, \"line\": {\"color\": \"white\"}}, \"header\": {\"fill\": {\"color\": \"#C8D4E3\"}, \"line\": {\"color\": \"white\"}}, \"type\": \"table\"}]}, \"layout\": {\"annotationdefaults\": {\"arrowcolor\": \"#2a3f5f\", \"arrowhead\": 0, \"arrowwidth\": 1}, \"coloraxis\": {\"colorbar\": {\"outlinewidth\": 0, \"ticks\": \"\"}}, \"colorscale\": {\"diverging\": [[0, \"#8e0152\"], [0.1, \"#c51b7d\"], [0.2, \"#de77ae\"], [0.3, \"#f1b6da\"], [0.4, \"#fde0ef\"], [0.5, \"#f7f7f7\"], [0.6, \"#e6f5d0\"], [0.7, \"#b8e186\"], [0.8, \"#7fbc41\"], [0.9, \"#4d9221\"], [1, \"#276419\"]], \"sequential\": [[0.0, \"#0d0887\"], [0.1111111111111111, \"#46039f\"], [0.2222222222222222, \"#7201a8\"], [0.3333333333333333, \"#9c179e\"], [0.4444444444444444, \"#bd3786\"], [0.5555555555555556, \"#d8576b\"], [0.6666666666666666, \"#ed7953\"], [0.7777777777777778, \"#fb9f3a\"], [0.8888888888888888, \"#fdca26\"], [1.0, \"#f0f921\"]], \"sequentialminus\": [[0.0, \"#0d0887\"], [0.1111111111111111, \"#46039f\"], [0.2222222222222222, \"#7201a8\"], [0.3333333333333333, \"#9c179e\"], [0.4444444444444444, \"#bd3786\"], [0.5555555555555556, \"#d8576b\"], [0.6666666666666666, \"#ed7953\"], [0.7777777777777778, \"#fb9f3a\"], [0.8888888888888888, \"#fdca26\"], [1.0, \"#f0f921\"]]}, \"colorway\": [\"#636efa\", \"#EF553B\", \"#00cc96\", \"#ab63fa\", \"#FFA15A\", \"#19d3f3\", \"#FF6692\", \"#B6E880\", \"#FF97FF\", \"#FECB52\"], \"font\": {\"color\": \"#2a3f5f\"}, \"geo\": {\"bgcolor\": \"white\", \"lakecolor\": \"white\", \"landcolor\": \"#E5ECF6\", \"showlakes\": true, \"showland\": true, \"subunitcolor\": \"white\"}, \"hoverlabel\": {\"align\": \"left\"}, \"hovermode\": \"closest\", \"mapbox\": {\"style\": \"light\"}, \"paper_bgcolor\": \"white\", \"plot_bgcolor\": \"#E5ECF6\", \"polar\": {\"angularaxis\": {\"gridcolor\": \"white\", \"linecolor\": \"white\", \"ticks\": \"\"}, \"bgcolor\": \"#E5ECF6\", \"radialaxis\": {\"gridcolor\": \"white\", \"linecolor\": \"white\", \"ticks\": \"\"}}, \"scene\": {\"xaxis\": {\"backgroundcolor\": \"#E5ECF6\", \"gridcolor\": \"white\", \"gridwidth\": 2, \"linecolor\": \"white\", \"showbackground\": true, \"ticks\": \"\", \"zerolinecolor\": \"white\"}, \"yaxis\": {\"backgroundcolor\": \"#E5ECF6\", \"gridcolor\": \"white\", \"gridwidth\": 2, \"linecolor\": \"white\", \"showbackground\": true, \"ticks\": \"\", \"zerolinecolor\": \"white\"}, \"zaxis\": {\"backgroundcolor\": \"#E5ECF6\", \"gridcolor\": \"white\", \"gridwidth\": 2, \"linecolor\": \"white\", \"showbackground\": true, \"ticks\": \"\", \"zerolinecolor\": \"white\"}}, \"shapedefaults\": {\"line\": {\"color\": \"#2a3f5f\"}}, \"ternary\": {\"aaxis\": {\"gridcolor\": \"white\", \"linecolor\": \"white\", \"ticks\": \"\"}, \"baxis\": {\"gridcolor\": \"white\", \"linecolor\": \"white\", \"ticks\": \"\"}, \"bgcolor\": \"#E5ECF6\", \"caxis\": {\"gridcolor\": \"white\", \"linecolor\": \"white\", \"ticks\": \"\"}}, \"title\": {\"x\": 0.05}, \"xaxis\": {\"automargin\": true, \"gridcolor\": \"white\", \"linecolor\": \"white\", \"ticks\": \"\", \"title\": {\"standoff\": 15}, \"zerolinecolor\": \"white\", \"zerolinewidth\": 2}, \"yaxis\": {\"automargin\": true, \"gridcolor\": \"white\", \"linecolor\": \"white\", \"ticks\": \"\", \"title\": {\"standoff\": 15}, \"zerolinecolor\": \"white\", \"zerolinewidth\": 2}}}, \"title\": {\"text\": \"Barplot of Feature importances for XGBoost\"}, \"width\": 1000, \"yaxis\": {\"showgrid\": false, \"showline\": false, \"showticklabels\": true}},\n",
       "                        {\"responsive\": true}\n",
       "                    ).then(function(){\n",
       "                            \n",
       "var gd = document.getElementById('16cfcae0-6e49-49cb-a224-4e94ec1b95f3');\n",
       "var x = new MutationObserver(function (mutations, observer) {{\n",
       "        var display = window.getComputedStyle(gd).display;\n",
       "        if (!display || display === 'none') {{\n",
       "            console.log([gd, 'removed!']);\n",
       "            Plotly.purge(gd);\n",
       "            observer.disconnect();\n",
       "        }}\n",
       "}});\n",
       "\n",
       "// Listen for the removal of the full notebook cells\n",
       "var notebookContainer = gd.closest('#notebook-container');\n",
       "if (notebookContainer) {{\n",
       "    x.observe(notebookContainer, {childList: true});\n",
       "}}\n",
       "\n",
       "// Listen for the clearing of the current output cell\n",
       "var outputEl = gd.closest('.output');\n",
       "if (outputEl) {{\n",
       "    x.observe(outputEl, {childList: true});\n",
       "}}\n",
       "\n",
       "                        })\n",
       "                };\n",
       "                });\n",
       "            </script>\n",
       "        </div>"
      ]
     },
     "metadata": {},
     "output_type": "display_data"
    }
   ],
   "source": [
    "#刪除\"Label\"這行column(axis=1)\n",
    "features = merged_dataframe.drop(['Label'],axis=1).columns.values\n",
    "#print(features.shape())\n",
    "print(features)\n",
    "#feature_importances_是排列xgb的特徵重要度評分\n",
    "x, y = (list(x) for x in zip(*sorted(zip(model_xgb.feature_importances_, features), \n",
    "                                                            reverse = False)))\n",
    "trace2 = go.Bar(\n",
    "    x=x ,\n",
    "    y=y,\n",
    "    marker=dict(\n",
    "        color=x,\n",
    "        colorscale = 'Viridis',\n",
    "        reversescale = True\n",
    "    ),\n",
    "    name='Feature importance for XGBoost',\n",
    "    orientation='h',\n",
    ")\n",
    "\n",
    "layout = dict(\n",
    "    title='Barplot of Feature importances for XGBoost',\n",
    "     width = 1000, height = 1000,\n",
    "    yaxis=dict(\n",
    "        showgrid=False,\n",
    "        showline=False,\n",
    "        showticklabels=True,\n",
    "#         domain=[0, 0.85],\n",
    "    ))\n",
    "\n",
    "fig1 = go.Figure(data=[trace2])\n",
    "fig1['layout'].update(layout)\n",
    "py.iplot(fig1, filename='plots')\n"
   ]
  },
  {
   "cell_type": "markdown",
   "metadata": {},
   "source": [
    "## Fine tuning with important features:\n",
    "\n",
    "#### As explained earlier in the feature importance plot section, lets use the most important features and see if it improves the accuracy of the model.\n",
    "\n",
    "#### After training using the most important features, we do not see much improvement in our model. Hence, lets not use that in further tuning. The model accuracy still remains at 62%"
   ]
  },
  {
   "cell_type": "code",
   "execution_count": 158,
   "metadata": {},
   "outputs": [
    {
     "name": "stdout",
     "output_type": "stream",
     "text": [
      "            Low    Neutral         Close  Objectivity          High   Positive\n",
      "0  11388.040039  14.285714  11734.320312    14.285714  11759.959961  21.428571\n",
      "1  11675.530273  22.222222  11782.349609    22.222222  11867.110352  33.333333\n",
      "2  11601.519531  50.000000  11642.469727    50.000000  11782.349609  14.285714\n",
      "3  11453.339844  60.000000  11532.959961    60.000000  11633.780273  20.000000\n",
      "4  11450.889648  54.545455  11615.929688    54.545455  11718.280273  36.363636\n",
      "\n",
      "accuracy score:\n",
      "0.5654362416107382\n",
      "｜true  p    false n｜\n",
      "｜false p    true  n｜\n",
      "confusion matrix: \n",
      "[[ 98 182]\n",
      " [ 77 239]]\n",
      "classification report: \n",
      "              precision    recall  f1-score   support\n",
      "\n",
      "           0       0.56      0.35      0.43       280\n",
      "           1       0.57      0.76      0.65       316\n",
      "\n",
      "    accuracy                           0.57       596\n",
      "   macro avg       0.56      0.55      0.54       596\n",
      "weighted avg       0.56      0.57      0.55       596\n",
      "\n"
     ]
    }
   ],
   "source": [
    "imp_features_df = merged_dataframe[['Low', \"Neutral\", 'Close', 'Objectivity', 'High','Positive']]\n",
    "X = imp_features_df.loc[:,'Low':'Positive']\n",
    "print(X.head())\n",
    "\n",
    "Xi_train, Xi_test = X.loc[0:train_size, :], X.loc[train_size+1: len(X.index), :]\n",
    "\n",
    "clf = XGBClassifier(n_estimators=200, max_depth=6)\n",
    "clf.fit(Xi_train, y_train)\n",
    "yi_pred = clf.predict(Xi_test)\n",
    "print(\"\")\n",
    "print(\"accuracy score:\")\n",
    "print(accuracy_score(y_test, yi_pred))\n",
    "print(\"｜true  p    false n｜\")\n",
    "print(\"｜false p    true  n｜\")\n",
    "print(\"confusion matrix: \")\n",
    "print(confusion_matrix(y_test, yi_pred))\n",
    "print(\"classification report: \")\n",
    "print(classification_report(y_test, yi_pred))"
   ]
  },
  {
   "cell_type": "markdown",
   "metadata": {},
   "source": [
    "## 抽出高重要性特徵，測試分數變低\n",
    "### all feature  XGBmodel test score：0.603\n",
    "### top 6 important feature XGBmodel test score：0.576\n",
    "\n",
    "\n"
   ]
  },
  {
   "cell_type": "markdown",
   "metadata": {},
   "source": [
    "# 2.2 PCA transformation:  \n",
    "# 2.2.1 PCA+XGB\n",
    "## PCA主成分分析，是另一種透過降維方式來協助機器學習的手段，不同的是LDA是監督式學習\n",
    "\n",
    "### In the below model, lets reduce the dimension of the data down to 3 and then train it using XGBoost to see if the performance is improved. PCA reduces the dimensions of the data, however it preserves the data from all columns, it only does the job of bringing down all the dimensions to 2-3 dimensions. The main dimension will be the dimension with highest amount of variance, i.e the spread of data."
   ]
  },
  {
   "cell_type": "code",
   "execution_count": 180,
   "metadata": {},
   "outputs": [
    {
     "name": "stdout",
     "output_type": "stream",
     "text": [
      "<class 'numpy.ndarray'>\n"
     ]
    }
   ],
   "source": [
    "from sklearn.decomposition import PCA\n",
    "\n",
    "X = merged_dataframe.loc[:,'Subjectivity':'Adj Close']\n",
    "y = merged_dataframe.loc[:,'Label']\n",
    "\n",
    "pca = PCA(n_components=3)#主成分的維數\n",
    "pca.fit(X)\n",
    "transformed = pca.transform(X)\n",
    "\n",
    "transformed.shape\n",
    "print(type(transformed))"
   ]
  },
  {
   "cell_type": "markdown",
   "metadata": {},
   "source": [
    "## 在PCA處理data後\n",
    "\n",
    "## 我們的xgboost在test data得到94%accuracy"
   ]
  },
  {
   "cell_type": "code",
   "execution_count": 182,
   "metadata": {},
   "outputs": [
    {
     "name": "stdout",
     "output_type": "stream",
     "text": [
      "Score is 0.9412751677852349\n"
     ]
    }
   ],
   "source": [
    "pca_df = pd.DataFrame(transformed)\n",
    "\n",
    "X_train_pca, X_test_pca = pca_df.loc[0:train_size, :], pca_df.loc[train_size+1: len(X.index), :]\n",
    "\n",
    "X_train_pca_finetune, X_validation_pca_finetune, X_test_pca_finetune = pca_df.loc[0:train_size, :], pca_df.loc[train_size+1: train_size+validation_size, :],pca_df.loc[train_size+validation_size+1: len(X.index), :]\n",
    "\n",
    "clf = XGBClassifier(n_estimators=200, max_depth=6)\n",
    "clf.fit(X_train_pca, y_train)\n",
    "y_pred_pca = clf.predict(X_test_pca)\n",
    "score = accuracy_score(y_test, y_pred_pca)\n",
    "print(\"Score is \"+ str(score))\n"
   ]
  },
  {
   "cell_type": "markdown",
   "metadata": {},
   "source": [
    "#### However, as explained earlier, we cannot totally rely on the accuracy score to be the most acurate test of the model . Lets take a look at the confusion matrix as well as the classification report.\n",
    "\n",
    "#### The confusion matrix looks good as we have a good number of true positives and true negatives.\n",
    "#### The top left corner is the true positive and the bottom right corner of the matrix is the true negatives.\n",
    "#### True Positive: No. of predictions which are positive and are actually positive.\n",
    "#### True Negative: No. of predictions which are negative and are actually negative.\n",
    "#### The bottom left and top right are false positive and false negative. We can see that the number of false positive's and false negative's are quite low. Thus we can say that the predictions performed by the model is very good.\n",
    "\n",
    "｜true  p    false n｜\n",
    "｜false p    true  n｜\n",
    "#### The precision, recal and f1 score is also very good.\n",
    "## Precision is 0.94\n",
    "## Recall is 0.94\n",
    "## f1-score is 0.94"
   ]
  },
  {
   "cell_type": "code",
   "execution_count": 183,
   "metadata": {},
   "outputs": [
    {
     "name": "stdout",
     "output_type": "stream",
     "text": [
      "｜true  p    false n｜\n",
      "｜false p    true  n｜\n",
      "Confusion Matrix: \n",
      "[[254  26]\n",
      " [  9 307]]\n",
      "Classification report: \n",
      "              precision    recall  f1-score   support\n",
      "\n",
      "           0       0.97      0.91      0.94       280\n",
      "           1       0.92      0.97      0.95       316\n",
      "\n",
      "    accuracy                           0.94       596\n",
      "   macro avg       0.94      0.94      0.94       596\n",
      "weighted avg       0.94      0.94      0.94       596\n",
      "\n",
      "AUC score is 0.9858103526220615\n",
      "roc auc is :0.9858103526220615\n"
     ]
    },
    {
     "data": {
      "image/png": "[encoded data removed]",
      "text/plain": [
       "<Figure size 432x288 with 1 Axes>"
      ]
     },
     "metadata": {
      "needs_background": "light"
     },
     "output_type": "display_data"
    }
   ],
   "source": [
    "pca_matrix = confusion_matrix(y_test, y_pred_pca)\n",
    "pca_report = classification_report(y_test, y_pred_pca)\n",
    "print(\"｜true  p    false n｜\")\n",
    "print(\"｜false p    true  n｜\")\n",
    "print(\"Confusion Matrix: \\n\" + str(pca_matrix))\n",
    "print(\"Classification report: \\n\" + str(pca_report))\n",
    "\n",
    "# Generating the ROC curve\n",
    "y_pred_proba_pca = clf.predict_proba(X_test_pca)[:,1]\n",
    "fpr, tpr, thresholds = roc_curve(y_test, y_pred_proba_pca)\n",
    "roc_auc = auc(fpr, tpr)\n",
    "print(\"AUC score is \" + str(roc_auc))\n",
    "\n",
    "# Plot ROC curve\n",
    "print(\"roc auc is :\" + str(roc_auc))\n",
    "pyplot.plot([0, 1], [0, 1], 'k--')\n",
    "pyplot.plot(fpr, tpr)\n",
    "pyplot.xlabel('False Positive Rate')\n",
    "pyplot.ylabel('True Positive Rate')\n",
    "pyplot.title('ROC Curve')\n",
    "pyplot.show()\n"
   ]
  },
  {
   "cell_type": "markdown",
   "metadata": {},
   "source": [
    "# 在pca主成分分析後續實驗：\n",
    "## 2.2.2 研究各模型在pca數據調整後的表現情形\n",
    "## 2.2.3不同主成分下XGboost的表現狀況"
   ]
  },
  {
   "cell_type": "markdown",
   "metadata": {},
   "source": [
    "# 2.2.2 研究各模型在pca數據調整後的表現情形"
   ]
  },
  {
   "cell_type": "code",
   "execution_count": 184,
   "metadata": {},
   "outputs": [
    {
     "name": "stdout",
     "output_type": "stream",
     "text": [
      "LR: 0.5419463087248322\n",
      "LDA: 0.9261744966442953\n",
      "KNN: 0.4597315436241611\n",
      "CART: 0.8909395973154363\n",
      "NB: 0.535234899328859\n",
      "SVM: 0.5335570469798657\n",
      "RF: 0.9412751677852349\n",
      "XGBoost: 0.9412751677852349\n"
     ]
    }
   ],
   "source": [
    "# Evaluate each algorithm for accuracy\n",
    "models = []\n",
    "models.append(('LR' , LogisticRegression()))\n",
    "models.append(('LDA' , LinearDiscriminantAnalysis()))\n",
    "models.append(('KNN' , KNeighborsClassifier()))\n",
    "models.append(('CART' , DecisionTreeClassifier()))\n",
    "models.append(('NB' , GaussianNB()))\n",
    "models.append(('SVM' , SVC()))\n",
    "models.append(('RF' , RandomForestClassifier(n_estimators=50)))\n",
    "models.append(('XGBoost', XGBClassifier(n_estimators=200, max_depth=6)))\n",
    "results = []\n",
    "names = []\n",
    "\n",
    "for name, model in models:\n",
    "    clf = model\n",
    "    clf.fit(X_train_pca, y_train)\n",
    "    y_pred_pca = clf.predict(X_test_pca)\n",
    "    accu_score = accuracy_score(y_test, y_pred_pca)\n",
    "    print(name + \": \" + str(accu_score))"
   ]
  },
  {
   "cell_type": "markdown",
   "metadata": {},
   "source": [
    "### 我們比較一下未使用PCA處理的結果：\n",
    "          原先的accuracy      使用PCA後的accuracy\n",
    "    LR:   0.5309882747068677  0.5419463087248322\n",
    "    LDA:  0.949748743718593   0.9261744966442953\n",
    "    KNN:  0.45896147403685095 0.4597315436241611\n",
    "    CART: 0.5561139028475712  0.889261744966443\n",
    "    NB:   0.5326633165829145  0.535234899328859\n",
    "    SVM:  0.5326633165829145  0.5335570469798657\n",
    "    RF:   0.576214405360134   0.9429530201342282\n",
    "    XGB:  0.6046901172529313  0.9463087248322147\n",
    "   \n",
    "         原先的accuracy      使用PCA後的accuracy\n",
    "    LR   0.531               0.542 \n",
    "    LDA  0.950               0.926 Down\n",
    "    KNN  0.459               0.460 \n",
    "    CART 0.556               0.889 Up\n",
    "    NB   0.533               0.535 \n",
    "    SVM  0.533               0.534 \n",
    "    RF   0.576               0.943 Up\n",
    "    XGB  0.605               0.946 Up\n",
    "\n",
    "### CART、RF、XGB有顯著上升；原先表現最好的LDA下降"
   ]
  },
  {
   "cell_type": "markdown",
   "metadata": {},
   "source": [
    "# 2.2.3不同主成分下XGboost的表現狀況"
   ]
  },
  {
   "cell_type": "code",
   "execution_count": 107,
   "metadata": {},
   "outputs": [
    {
     "name": "stdout",
     "output_type": "stream",
     "text": [
      "Score is 0.4697986577181208 at components of 1\n",
      "Score is 0.4966442953020134 at components of 2\n",
      "Score is 0.9563758389261745 at components of 3\n",
      "Score is 0.9463087248322147 at components of 4\n",
      "Score is 0.9429530201342282 at components of 5\n",
      "Score is 0.9664429530201343 at components of 6\n",
      "Score is 0.9731543624161074 at components of 7\n",
      "Score is 0.9697986577181208 at components of 8\n",
      "Score is 0.9664429530201343 at components of 9\n",
      "Score is 0.9664429530201343 at components of 10\n",
      "Score is 0.9697986577181208 at components of 11\n",
      "Best score is 0.9731543624161074 at components of 7\n",
      "Best pca components of score in test data is 0.9630872483221476\n"
     ]
    }
   ],
   "source": [
    "X = merged_dataframe.loc[:,'Subjectivity':'Adj Close']\n",
    "y = merged_dataframe.loc[:,'Label']\n",
    "\n",
    "model = XGBClassifier()\n",
    "\n",
    "n_components = [1, 2, 3, 4, 5, 6, 7, 8, 9, 10, 11]\n",
    "\n",
    "best_components = 0\n",
    "max_score = 0\n",
    "\n",
    "for n in n_components:\n",
    "    #PCA處理\n",
    "    pca = PCA(n_components=n)#主成分的維數\n",
    "    pca.fit(X)\n",
    "    transformed = pca.transform(X)\n",
    "    pca_df = pd.DataFrame(transformed)\n",
    "    X_train_pca_finetune, X_validation_pca_finetune, X_test_pca_finetune = pca_df.loc[0:train_size, :], pca_df.loc[train_size+1: train_size+validation_size, :],pca_df.loc[train_size+validation_size+1: len(X.index), :]\n",
    "    #\n",
    "    #帶入RF model\n",
    "    model.fit(X_train_pca_finetune, y_train_finetune)\n",
    "    y_pred = model.predict(X_validation_pca_finetune)\n",
    "    score = accuracy_score(y_validation_finetune, y_pred)\n",
    "    if score > max_score:\n",
    "        max_score = score\n",
    "        best_components = n\n",
    "    print(\"Score is \" + str(score) + \" at components of \" + str(n))\n",
    "print(\"Best score is \" + str(max_score) + \" at components of \" + str(best_components))\n",
    "\n",
    "pca = PCA(n_components=best_components)#主成分的維數\n",
    "pca.fit(X)\n",
    "transformed = pca.transform(X)\n",
    "pca_df = pd.DataFrame(transformed)\n",
    "X_train_pca_finetune, X_validation_pca_finetune, X_test_pca_finetune = pca_df.loc[0:train_size, :], pca_df.loc[train_size+1: train_size+validation_size, :],pca_df.loc[train_size+validation_size+1: len(X.index), :]\n",
    "model.fit(X_train_pca_finetune, y_train_finetune)\n",
    "y_pred = model.predict(X_test_pca_finetune)\n",
    "score = accuracy_score(y_test_finetune, y_pred)\n",
    "\n",
    "print(\"Best pca components of score in test data is \" + str(score))\n"
   ]
  },
  {
   "cell_type": "markdown",
   "metadata": {},
   "source": [
    "### 以XGB model測試後在components 於n = 8時有最佳accuracy\n",
    "### 接著我們看看在PCA n = 8 之下，finetune xgb的最佳結果為何？"
   ]
  },
  {
   "cell_type": "code",
   "execution_count": 108,
   "metadata": {},
   "outputs": [
    {
     "name": "stdout",
     "output_type": "stream",
     "text": [
      "[1, 2, 3, 4, 5, 6, 7, 8, 9, 10, 11, 12]\n",
      "Score is 0.9731543624161074 at depth of 1 and estimator 150\n",
      "Score is 0.9798657718120806 at depth of 2 and estimator 150\n",
      "Score is 0.9765100671140939 at depth of 3 and estimator 150\n",
      "Score is 0.9765100671140939 at depth of 4 and estimator 150\n",
      "Score is 0.9731543624161074 at depth of 5 and estimator 150\n",
      "Score is 0.9731543624161074 at depth of 6 and estimator 150\n",
      "Score is 0.9697986577181208 at depth of 7 and estimator 150\n",
      "Score is 0.9697986577181208 at depth of 8 and estimator 150\n",
      "Score is 0.9731543624161074 at depth of 9 and estimator 150\n",
      "Score is 0.9731543624161074 at depth of 10 and estimator 150\n",
      "Score is 0.9731543624161074 at depth of 11 and estimator 150\n",
      "Score is 0.9731543624161074 at depth of 12 and estimator 150\n",
      "Score is 0.9697986577181208 at depth of 1 and estimator 200\n",
      "Score is 0.9798657718120806 at depth of 2 and estimator 200\n",
      "Score is 0.9765100671140939 at depth of 3 and estimator 200\n",
      "Score is 0.9765100671140939 at depth of 4 and estimator 200\n",
      "Score is 0.9731543624161074 at depth of 5 and estimator 200\n",
      "Score is 0.9697986577181208 at depth of 6 and estimator 200\n",
      "Score is 0.9697986577181208 at depth of 7 and estimator 200\n",
      "Score is 0.9697986577181208 at depth of 8 and estimator 200\n",
      "Score is 0.9731543624161074 at depth of 9 and estimator 200\n",
      "Score is 0.9731543624161074 at depth of 10 and estimator 200\n",
      "Score is 0.9731543624161074 at depth of 11 and estimator 200\n",
      "Score is 0.9731543624161074 at depth of 12 and estimator 200\n",
      "Score is 0.9697986577181208 at depth of 1 and estimator 250\n",
      "Score is 0.9798657718120806 at depth of 2 and estimator 250\n",
      "Score is 0.9765100671140939 at depth of 3 and estimator 250\n",
      "Score is 0.9731543624161074 at depth of 4 and estimator 250\n",
      "Score is 0.9731543624161074 at depth of 5 and estimator 250\n",
      "Score is 0.9697986577181208 at depth of 6 and estimator 250\n",
      "Score is 0.9697986577181208 at depth of 7 and estimator 250\n",
      "Score is 0.9697986577181208 at depth of 8 and estimator 250\n",
      "Score is 0.9731543624161074 at depth of 9 and estimator 250\n",
      "Score is 0.9731543624161074 at depth of 10 and estimator 250\n",
      "Score is 0.9731543624161074 at depth of 11 and estimator 250\n",
      "Score is 0.9731543624161074 at depth of 12 and estimator 250\n",
      "Score is 0.9765100671140939 at depth of 1 and estimator 450\n",
      "Score is 0.9765100671140939 at depth of 2 and estimator 450\n",
      "Score is 0.9731543624161074 at depth of 3 and estimator 450\n",
      "Score is 0.9731543624161074 at depth of 4 and estimator 450\n",
      "Score is 0.9731543624161074 at depth of 5 and estimator 450\n",
      "Score is 0.9697986577181208 at depth of 6 and estimator 450\n",
      "Score is 0.9697986577181208 at depth of 7 and estimator 450\n",
      "Score is 0.9697986577181208 at depth of 8 and estimator 450\n",
      "Score is 0.9731543624161074 at depth of 9 and estimator 450\n",
      "Score is 0.9731543624161074 at depth of 10 and estimator 450\n",
      "Score is 0.9731543624161074 at depth of 11 and estimator 450\n",
      "Score is 0.9731543624161074 at depth of 12 and estimator 450\n",
      "Score is 0.9731543624161074 at depth of 1 and estimator 500\n",
      "Score is 0.9765100671140939 at depth of 2 and estimator 500\n",
      "Score is 0.9731543624161074 at depth of 3 and estimator 500\n",
      "Score is 0.9731543624161074 at depth of 4 and estimator 500\n",
      "Score is 0.9731543624161074 at depth of 5 and estimator 500\n",
      "Score is 0.9697986577181208 at depth of 6 and estimator 500\n",
      "Score is 0.9731543624161074 at depth of 7 and estimator 500\n",
      "Score is 0.9697986577181208 at depth of 8 and estimator 500\n",
      "Score is 0.9731543624161074 at depth of 9 and estimator 500\n",
      "Score is 0.9731543624161074 at depth of 10 and estimator 500\n",
      "Score is 0.9731543624161074 at depth of 11 and estimator 500\n",
      "Score is 0.9731543624161074 at depth of 12 and estimator 500\n",
      "Score is 0.9765100671140939 at depth of 1 and estimator 550\n",
      "Score is 0.9765100671140939 at depth of 2 and estimator 550\n",
      "Score is 0.9731543624161074 at depth of 3 and estimator 550\n",
      "Score is 0.9731543624161074 at depth of 4 and estimator 550\n",
      "Score is 0.9731543624161074 at depth of 5 and estimator 550\n",
      "Score is 0.9697986577181208 at depth of 6 and estimator 550\n",
      "Score is 0.9731543624161074 at depth of 7 and estimator 550\n",
      "Score is 0.9697986577181208 at depth of 8 and estimator 550\n",
      "Score is 0.9731543624161074 at depth of 9 and estimator 550\n",
      "Score is 0.9731543624161074 at depth of 10 and estimator 550\n",
      "Score is 0.9731543624161074 at depth of 11 and estimator 550\n",
      "Score is 0.9731543624161074 at depth of 12 and estimator 550\n",
      "Score is 0.9765100671140939 at depth of 1 and estimator 1000\n",
      "Score is 0.9765100671140939 at depth of 2 and estimator 1000\n",
      "Score is 0.9731543624161074 at depth of 3 and estimator 1000\n",
      "Score is 0.9731543624161074 at depth of 4 and estimator 1000\n",
      "Score is 0.9731543624161074 at depth of 5 and estimator 1000\n",
      "Score is 0.9697986577181208 at depth of 6 and estimator 1000\n",
      "Score is 0.9731543624161074 at depth of 7 and estimator 1000\n",
      "Score is 0.9697986577181208 at depth of 8 and estimator 1000\n",
      "Score is 0.9731543624161074 at depth of 9 and estimator 1000\n",
      "Score is 0.9731543624161074 at depth of 10 and estimator 1000\n",
      "Score is 0.9731543624161074 at depth of 11 and estimator 1000\n",
      "Score is 0.9731543624161074 at depth of 12 and estimator 1000\n",
      "Best score is 0.9798657718120806 at depth of 2 and estimator of 150\n",
      "the best estimator score in test data is0.9563758389261745\n"
     ]
    }
   ],
   "source": [
    "# XGBoost on Stock Price dataset, Tune n_estimators and max_depth\n",
    "from sklearn.model_selection import GridSearchCV\n",
    "from sklearn.model_selection import StratifiedKFold\n",
    "from sklearn.preprocessing import LabelEncoder\n",
    "import matplotlib\n",
    "\n",
    "matplotlib.use('Agg')\n",
    "model = XGBClassifier()\n",
    "n_estimators = [150, 200, 250, 450, 500, 550, 1000]\n",
    "max_depth = [1, 2, 3, 4, 5, 6, 7, 8, 9, 10, 11, 12]\n",
    "print(max_depth)\n",
    "best_depth = 0\n",
    "best_estimator = 0\n",
    "max_score = 0\n",
    "\n",
    "for n in n_estimators:\n",
    "    for md in max_depth:\n",
    "        model = XGBClassifier(n_estimators=n, max_depth=md)\n",
    "        model.fit(X_train_pca_finetune, y_train_finetune)\n",
    "        y_pred = model.predict(X_validation_pca_finetune)\n",
    "        score = accuracy_score(y_validation_finetune, y_pred)\n",
    "        if score > max_score:\n",
    "            max_score = score\n",
    "            best_depth = md\n",
    "            best_estimator = n\n",
    "        print(\"Score is \" + str(score) + \" at depth of \" + str(md) + \" and estimator \" + str(n))\n",
    "print(\"Best score is \" + str(max_score) + \" at depth of \" + str(best_depth) + \" and estimator of \" + str(best_estimator))\n",
    "\n",
    "model = XGBClassifier(n_estimators=best_estimator, max_depth=best_depth)\n",
    "model.fit(X_train_pca_finetune, y_train_finetune)\n",
    "y_pred = model.predict(X_test_pca_finetune)\n",
    "score = accuracy_score(y_test_finetune, y_pred)\n",
    "    \n",
    "print(\"the best estimator score in test data is\"+str(score))"
   ]
  },
  {
   "cell_type": "markdown",
   "metadata": {},
   "source": [
    "# 3.實用性測試\n",
    "# 3.1 隔日股票預測\n",
    "## 另外我好奇，如果預測的不是當天股票，而是隔天的呢？基於實用性原則，我們還是得對未來做預測才有意義，然而透過文獻，時間越久新聞對股票的影響性越小，這似乎對我們不利。所以我們來看看效果"
   ]
  },
  {
   "cell_type": "code",
   "execution_count": 188,
   "metadata": {},
   "outputs": [
    {
     "name": "stdout",
     "output_type": "stream",
     "text": [
      "(1989, 3)\n",
      "1989\n",
      "1392\n",
      "1989\n",
      "\n",
      "\n",
      "(1393, 3)\n",
      "(595, 3)\n",
      "(1393,)\n",
      "(595,)\n",
      "XGB with pca(n=8): 0.45546218487394957\n"
     ]
    }
   ],
   "source": [
    "X_train_pca_tommorrow, X_test_pca_tommorrow = pca_df.loc[0:train_size, :], pca_df.loc[train_size+1: len(pca_df.index)-2, :]\n",
    "y_train_tommorrow,  y_test_tommorrow = y.loc[1:train_size+1], y.loc[train_size+2: len(pca_df.index)-1]\n",
    "print(pca_df.shape)\n",
    "print(len(pca_df.index))\n",
    "print(str(train_size))\n",
    "print(str(len(pca_df.index)))\n",
    "print(str())\n",
    "print(str())\n",
    "print(X_train_pca_tommorrow.shape)\n",
    "print(X_test_pca_tommorrow.shape)\n",
    "print(y_train_tommorrow.shape)\n",
    "print(y_test_tommorrow.shape)\n",
    "\n",
    "\n",
    "\n",
    "\n",
    "model = XGBClassifier(n_estimators=200, max_depth=6)\n",
    "model.fit(X_train_pca_tommorrow, y_train_tommorrow)\n",
    "y_pred = model.predict(X_test_pca_tommorrow)\n",
    "score = accuracy_score(y_test_tommorrow, y_pred)\n",
    "print(\"XGB with pca(n=8): \" + str(score))"
   ]
  },
  {
   "cell_type": "code",
   "execution_count": 189,
   "metadata": {},
   "outputs": [
    {
     "name": "stdout",
     "output_type": "stream",
     "text": [
      "LR: 0.5310924369747899\n",
      "LDA: 0.5126050420168067\n",
      "KNN: 0.47394957983193275\n",
      "CART: 0.4773109243697479\n",
      "NB: 0.5294117647058824\n",
      "SVM: 0.5327731092436975\n",
      "RF: 0.4789915966386555\n",
      "XGBoost: 0.5210084033613446\n"
     ]
    }
   ],
   "source": [
    "X_train_tommorrow, X_test_tommorrow = X.loc[0:train_size, :], X.loc[train_size+1: len(X.index)-2, :]\n",
    "y_train_tommorrow, y_test_tommorrow = y.loc[1:train_size+1], y.loc[train_size+2: len(X.index)-1]\n",
    "\n",
    "# Evaluate each algorithm for accuracy\n",
    "results = []\n",
    "names = []\n",
    "\n",
    "models = []\n",
    "models.append(('LR' , LogisticRegression()))\n",
    "models.append(('LDA' , LinearDiscriminantAnalysis()))\n",
    "models.append(('KNN' , KNeighborsClassifier()))\n",
    "models.append(('CART' , DecisionTreeClassifier()))\n",
    "models.append(('NB' , GaussianNB()))\n",
    "models.append(('SVM' , SVC()))\n",
    "models.append(('RF' , RandomForestClassifier(n_estimators=50)))\n",
    "models.append(('XGBoost', XGBClassifier(n_estimators=200, max_depth=6)))\n",
    "\n",
    "for name, model in models:\n",
    "    clf = model\n",
    "    clf.fit(X_train_tommorrow, y_train_tommorrow)\n",
    "    y_pred = clf.predict(X_test_tommorrow)\n",
    "    accu_score = accuracy_score(y_test_tommorrow, y_pred)\n",
    "    print(name + \": \" + str(accu_score))\n"
   ]
  },
  {
   "cell_type": "markdown",
   "metadata": {},
   "source": [
    "## 所有的預測皆嚴重下滑。這似乎呼應我們在文獻得知的，新聞影響力是短時間性的。然而我們不禁想，是否有其他因素導致我們只能對當日新聞做出有效的預測？"
   ]
  },
  {
   "cell_type": "markdown",
   "metadata": {},
   "source": [
    "# 3.2 實用性預測：短線資料無close,volume\n",
    "## 當我拿掉close,volume的數據時，模型的測驗效果如何？\n",
    "## 拿掉close的特徵也符合實際情況：我們若要做當天收盤買賣，理應不知道收盤的數值的"
   ]
  },
  {
   "cell_type": "code",
   "execution_count": 191,
   "metadata": {},
   "outputs": [
    {
     "name": "stdout",
     "output_type": "stream",
     "text": [
      "LR: 0.8741610738255033\n",
      "LDA: 0.8624161073825504\n",
      "KNN: 0.5369127516778524\n",
      "CART: 0.5939597315436241\n",
      "NB: 0.4966442953020134\n",
      "SVM: 0.5302013422818792\n",
      "RF: 0.5100671140939598\n",
      "XGBoost: 0.5738255033557047\n"
     ]
    }
   ],
   "source": [
    "imp_features_df = merged_dataframe[['Subjectivity', 'Objectivity', 'Positive', 'Negative', 'Neutral', 'Open', 'High', 'Low', 'Volume']]\n",
    "#imp_features_df = merged_dataframe[['Subjectivity', 'Objectivity', 'Positive', 'Negative', 'Neutral', 'Open', 'High', 'Low', 'Volume']]\n",
    "X_real = imp_features_df.loc[:,'Subjectivity':'Low']\n",
    "\n",
    "X_train_real, X_test_real = X_real.loc[0:train_size, :], X_real.loc[train_size+1: len(X.index)-1, :]\n",
    "y_train_real, y_test_real = y.loc[0:train_size], y.loc[train_size+1: len(X.index)-1]\n",
    "\n",
    "results = []\n",
    "names = []\n",
    "\n",
    "models = []\n",
    "models.append(('LR' , LogisticRegression()))\n",
    "models.append(('LDA' , LinearDiscriminantAnalysis()))\n",
    "models.append(('KNN' , KNeighborsClassifier()))\n",
    "models.append(('CART' , DecisionTreeClassifier()))\n",
    "models.append(('NB' , GaussianNB()))\n",
    "models.append(('SVM' , SVC()))\n",
    "models.append(('RF' , RandomForestClassifier(n_estimators=50)))\n",
    "models.append(('XGBoost', XGBClassifier(n_estimators=200, max_depth=6)))\n",
    "\n",
    "for name, model in models:\n",
    "    clf = model\n",
    "    clf.fit(X_train_real, y_train_real)\n",
    "    y_pred = clf.predict(X_test_real)\n",
    "    accu_score = accuracy_score(y_test_real, y_pred)\n",
    "    print(name + \": \" + str(accu_score))"
   ]
  },
  {
   "cell_type": "markdown",
   "metadata": {},
   "source": [
    "## 比較各數值：\n",
    "         抽取調close,volumn  原先的accuracy\n",
    "    LR   0.874               0.553\n",
    "    LDA  0.862               0.932\n",
    "    KNN  0.537               0.473\n",
    "    CART 0.594               0.587\n",
    "    NB   0.497               0.550\n",
    "    SVM  0.530               0.550\n",
    "    RF   0.510               0.546\n",
    "    XGB  0.574               0.617"
   ]
  },
  {
   "cell_type": "markdown",
   "metadata": {},
   "source": [
    "### 測試pca+xgb"
   ]
  },
  {
   "cell_type": "code",
   "execution_count": 192,
   "metadata": {},
   "outputs": [
    {
     "name": "stdout",
     "output_type": "stream",
     "text": [
      "XGBoost: 0.8523489932885906\n"
     ]
    }
   ],
   "source": [
    "pca = PCA(n_components=best_components)#主成分的維數\n",
    "pca.fit(X_real)\n",
    "transformed = pca.transform(X_real)\n",
    "pca_df = pd.DataFrame(transformed)\n",
    "X_train_pca_real, X_test_pca_real = pca_df.loc[0:train_size, :], pca_df.loc[train_size+1: len(X.index)-1, :]\n",
    "y_train_pca_real, y_test_pca_real = y.loc[0:train_size], y.loc[train_size+1: len(X.index)-1]\n",
    "\n",
    "model = XGBClassifier(n_estimators=200, max_depth=6)\n",
    "model.fit(X_train_pca_real, y_train_pca_real)\n",
    "y_pred = model.predict(X_test_pca_real)\n",
    "accu_score = accuracy_score(y_test_pca_real, y_pred)\n",
    "print(name + \": \" + str(accu_score))"
   ]
  },
  {
   "cell_type": "markdown",
   "metadata": {},
   "source": [
    "## 由此可見logistic regression的分數明顯上升，而LDA在此的表現下降。\n",
    "\n",
    "## 我們再使用PCA轉換後搭配XGBoost，在此得到了0.856的預測準度。\n"
   ]
  },
  {
   "cell_type": "markdown",
   "metadata": {},
   "source": [
    "# 3.3 只預測開高低收\n",
    "## 最後我們抽取掉新聞情感分析的五項特徵，只以K線資訊預測當日走勢，試圖了解新聞情感分析佔本次實驗的影響重要性程度："
   ]
  },
  {
   "cell_type": "code",
   "execution_count": 88,
   "metadata": {},
   "outputs": [
    {
     "name": "stdout",
     "output_type": "stream",
     "text": [
      "(1989, 5)\n",
      "LR: 0.5302013422818792\n",
      "LDA: 0.9546979865771812\n",
      "KNN: 0.4597315436241611\n",
      "CART: 0.5922818791946308\n",
      "NB: 0.5302013422818792\n",
      "SVM: 0.5335570469798657\n",
      "RF: 0.5838926174496645\n",
      "XGBoost: 0.5671140939597316\n"
     ]
    }
   ],
   "source": [
    "imp_features_df = merged_dataframe[[ 'Open', 'High', 'Low','Volume','Close']]\n",
    "X_real = imp_features_df.loc[:,'Open':'Close']\n",
    "print(X_real.shape)\n",
    "\n",
    "X_train_real, X_test_real = X_real.loc[0:train_size, :], X_real.loc[train_size+1: len(X.index)-1, :]\n",
    "y_train_real, y_test_real = y.loc[0:train_size], y.loc[train_size+1: len(X.index)-1]\n",
    "\n",
    "results = []\n",
    "names = []\n",
    "\n",
    "models = []\n",
    "models.append(('LR' , LogisticRegression()))\n",
    "models.append(('LDA' , LinearDiscriminantAnalysis()))\n",
    "models.append(('KNN' , KNeighborsClassifier()))\n",
    "models.append(('CART' , DecisionTreeClassifier()))\n",
    "models.append(('NB' , GaussianNB()))\n",
    "models.append(('SVM' , SVC()))\n",
    "models.append(('RF' , RandomForestClassifier(n_estimators=50)))\n",
    "models.append(('XGBoost', XGBClassifier(n_estimators=200, max_depth=6)))\n",
    "\n",
    "for name, model in models:\n",
    "    clf = model\n",
    "    clf.fit(X_train_real, y_train_real)\n",
    "    y_pred = clf.predict(X_test_real)\n",
    "    accu_score = accuracy_score(y_test_real, y_pred)\n",
    "    print(name + \": \" + str(accu_score))"
   ]
  },
  {
   "cell_type": "markdown",
   "metadata": {},
   "source": [
    "## 我們發現LDA仍然維持極高的水準，而比較原本的預測結果發現，其實差別不大，由此得知我們本次實驗雖欲證明新聞文本sentiment analysis能在股票預測有好的表現，但結果不盡人意，sentiment analysis的特徵的影響性微乎其微。"
   ]
  },
  {
   "cell_type": "code",
   "execution_count": null,
   "metadata": {},
   "outputs": [],
   "source": []
  }
 ],
 "metadata": {
  "kernelspec": {
   "display_name": "local-venv",
   "language": "python",
   "name": "local-venv"
  },
  "language_info": {
   "codemirror_mode": {
    "name": "ipython",
    "version": 3
   },
   "file_extension": ".py",
   "mimetype": "text/x-python",
   "name": "python",
   "nbconvert_exporter": "python",
   "pygments_lexer": "ipython3",
   "version": "3.6.9"
  }
 },
 "nbformat": 4,
 "nbformat_minor": 2
}
